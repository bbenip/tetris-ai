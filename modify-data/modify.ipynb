{
 "cells": [
  {
   "cell_type": "code",
   "execution_count": null,
   "metadata": {},
   "outputs": [
    {
     "ename": "",
     "evalue": "",
     "output_type": "error",
     "traceback": [
      "\u001b[1;31mRunning cells with 'c:\\Users\\chaot\\AppData\\Local\\Programs\\Python\\Python39\\python.exe' requires the ipykernel package.\n",
      "\u001b[1;31mRun the following command to install 'ipykernel' into the Python environment. \n",
      "\u001b[1;31mCommand: 'c:/Users/chaot/AppData/Local/Programs/Python/Python39/python.exe -m pip install ipykernel -U --user --force-reinstall'"
     ]
    }
   ],
   "source": [
    "ABSOLUTE_PATH = os.path.dirname(os.path.abspath(__file__))\n",
    "MOVES_FOLDER_PATH = os.path.join(ABSOLUTE_PATH, 'games')\n",
    "\n",
    "MOVES_JSON_FILENAME = '0000.json'\n",
    "\n",
    "try:\n",
    "    moves_file_path = os.path.join(MOVES_FOLDER_PATH, MOVES_JSON_FILENAME)\n",
    "    moves = loadMoves(moves_file_path)\n",
    "except:\n",
    "    print(\"Error loading moves file\")\n",
    "\n",
    "# Load moves from JSON file\n",
    "def loadMoves(filepath):\n",
    "    out = []\n",
    "    with open(filepath, 'rb') as f:\n",
    "        data = json.load(f)\n",
    "        for move in data:\n",
    "            heldBlock = move[\"heldBlock\"] #I|O|T|L|J|S|Z|None|\n",
    "            activeBlock = move[\"activeBlock\"] #I|O|T|L|J|S|Z\n",
    "            blockPos = [activeBlock[\"pos\"][\"x\"], activeBlock[\"pos\"][\"y\"]]\n",
    "            blockRot = activeBlock[\"rot\"] #0|1|2|3\n",
    "            currGrid = move[\"oldBoard\"]\n",
    "            nextMove = move[\"move\"] #MOVE_LEFT | MOVE_RIGHT | ROT_CCW | ROT_CW | ROT_180 | SOFT_DROP | HARD_DROP\n",
    "            console.log(heldBlock, activeBlock, blockPos, blockRot, nextMove)\n",
    "    return out"
   ]
  }
 ],
 "metadata": {
  "kernelspec": {
   "display_name": "Python 3",
   "language": "python",
   "name": "python3"
  },
  "language_info": {
   "name": "python",
   "version": "3.9.0"
  },
  "orig_nbformat": 4
 },
 "nbformat": 4,
 "nbformat_minor": 2
}
