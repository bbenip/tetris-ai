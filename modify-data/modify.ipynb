{
  "cells": [
    {
      "cell_type": "markdown",
      "source": [
        "Pre-processing the data to get it into a Numpy array"
      ],
      "metadata": {
        "id": "KB0Y1-JbxPkE"
      }
    },
    {
      "cell_type": "markdown",
      "source": [
        "Mount Google Drive"
      ],
      "metadata": {
        "id": "ElS4xM0c4m2x"
      }
    },
    {
      "cell_type": "code",
      "source": [
        "from google.colab import drive\n",
        "drive.mount('/content/drive')\n",
        "\n",
        "!git clone https://github.com/bbenip/tetris-ai.git\n",
        "!cd tetris-ai/modify-data"
      ],
      "metadata": {
        "id": "g_loCgb5kezD"
      },
      "execution_count": null,
      "outputs": []
    },
    {
      "cell_type": "markdown",
      "source": [
        "Install dependencies"
      ],
      "metadata": {
        "id": "SzV1BpEv4qb4"
      }
    },
    {
      "cell_type": "code",
      "source": [
        "!pip install h5py"
      ],
      "metadata": {
        "id": "YarI7Jsv4sqm"
      },
      "execution_count": null,
      "outputs": []
    },
    {
      "cell_type": "code",
      "source": [
        "import os\n",
        "import json\n",
        "import numpy as np"
      ],
      "metadata": {
        "id": "BW0Jwf05jF6Q"
      },
      "execution_count": 41,
      "outputs": []
    },
    {
      "cell_type": "code",
      "source": [
        "MOVES_FOLDER_PATH = os.path.dirname('/content/tetris-ai/modify-data/games/')\n",
        "print(MOVES_FOLDER_PATH)"
      ],
      "metadata": {
        "colab": {
          "base_uri": "https://localhost:8080/"
        },
        "id": "VJNjjdObi-0X",
        "outputId": "852958fc-6ee8-4c75-dae8-049c65cbd5f0"
      },
      "execution_count": 137,
      "outputs": [
        {
          "output_type": "stream",
          "name": "stdout",
          "text": [
            "/content/tetris-ai/modify-data/games\n"
          ]
        }
      ]
    },
    {
      "cell_type": "code",
      "source": [
        "MOVES_TABLE = {\n",
        "    \"MOVE_LEFT\": 0,\n",
        "    \"MOVE_RIGHT\": 1,\n",
        "    \"ROTATE_LEFT\": 2,\n",
        "    \"ROTATE_RIGHT\": 3,\n",
        "    \"ROTATE_180\": 4,\n",
        "    \"SOFT_DROP\": 5,\n",
        "    \"HARD_DROP\": 6,\n",
        "    \"DAS_LEFT\": 7,\n",
        "    \"DAS_RIGHT\": 8,\n",
        "    \"HOLD_BLOCK\": 9\n",
        "}"
      ],
      "metadata": {
        "id": "IA-3ndslpM3p"
      },
      "execution_count": 48,
      "outputs": []
    },
    {
      "cell_type": "code",
      "execution_count": 94,
      "metadata": {
        "id": "Lgw12JV5ix8J"
      },
      "outputs": [],
      "source": [
        "# Load moves from JSON file\n",
        "def loadMoves(filepath):\n",
        "    outGrids = np.empty((0, 10), dtype=int)\n",
        "    outScalars = np.empty((0, 5), dtype=int)\n",
        "    outY = np.empty((0, 1), dtype=int)\n",
        "    with open(filepath, 'rb') as f:\n",
        "        data = json.load(f)\n",
        "        for move in data:\n",
        "            heldBlock = move[\"heldBlock\"][\"id\"] + 1 if move[\"heldBlock\"] else 0 #Shift id values up by 1 to allow null\n",
        "            activeBlock = move[\"activeBlock\"][\"id\"] + 1 #Just so the block ids match up\n",
        "            blockPos = [move[\"activeBlock\"][\"pos\"][\"x\"], move[\"activeBlock\"][\"pos\"][\"y\"]]\n",
        "            blockRot = move[\"activeBlock\"][\"rot\"]\n",
        "            currGrid = np.array(move[\"oldBoard\"], dtype=int) #(20,10)\n",
        "            nextMove = MOVES_TABLE[move[\"move\"]]\n",
        "\n",
        "            # Append to the NumPy array\n",
        "            scalars = np.array([heldBlock, activeBlock, blockPos[0], blockPos[1], blockRot], dtype=int) #(6,)\n",
        "            outScalars = np.vstack((outScalars, scalars))\n",
        "            outGrids = np.vstack((outGrids, currGrid))\n",
        "            outY = np.append(outY, nextMove)\n",
        "    return (outGrids, outScalars, outY)"
      ]
    },
    {
      "cell_type": "code",
      "source": [
        "import h5py\n",
        "\n",
        "DATASET_FILE_NAME = \"data.hdf5\""
      ],
      "metadata": {
        "id": "q8vy2P84Cby9"
      },
      "execution_count": 155,
      "outputs": []
    },
    {
      "cell_type": "code",
      "source": [
        "def createDatasets(filepath, movesGrids, movesScalars, movesY):\n",
        "  with h5py.File(filepath, \"w\") as f:\n",
        "      dsetGrids = f.create_dataset(\"X_grids\", data=movesGrids, maxshape=(None, 10))\n",
        "      dsetScalars = f.create_dataset(\"X_scalars\", data=movesScalars, maxshape=(None, 5))\n",
        "      dsetY = f.create_dataset(\"Y\", data=movesY, maxshape=(None,))"
      ],
      "metadata": {
        "id": "ob8vyZen2zeP"
      },
      "execution_count": 146,
      "outputs": []
    },
    {
      "cell_type": "code",
      "source": [
        "def appendToDataset(filepath, datasetName, arr):\n",
        "  with h5py.File(filepath, \"a\") as hf:\n",
        "    hf[datasetName].resize((hf[datasetName].shape[0] + arr.shape[0]), axis = 0)\n",
        "    hf[datasetName][-arr.shape[0]:] = arr\n",
        "\n",
        "def appendAllToDataset(filepath, movesGrids, movesScalars, movesY):\n",
        "  appendToDataset(filepath, 'X_grids', movesGrids)\n",
        "  appendToDataset(filepath, 'X_scalars', movesScalars)\n",
        "  appendToDataset(filepath, 'Y', movesY)"
      ],
      "metadata": {
        "id": "OK3bLUcMIPw8"
      },
      "execution_count": 151,
      "outputs": []
    },
    {
      "cell_type": "code",
      "source": [
        "def printHDF5File(filepath):\n",
        "  with h5py.File(filepath, 'r') as f1:\n",
        "      for dset in f1.keys():\n",
        "        print(f1[dset])\n",
        "printHDF5File(DATASET_FILE_NAME)"
      ],
      "metadata": {
        "id": "D9tKqLN-CY0U"
      },
      "execution_count": null,
      "outputs": []
    },
    {
      "cell_type": "code",
      "source": [
        "files = [os.path.join(MOVES_FOLDER_PATH, f) for f in os.listdir(MOVES_FOLDER_PATH) if f.endswith('.json')]\n",
        "print(files)\n",
        "for i,f in enumerate(files):\n",
        "  movesGrids, movesScalars, movesY = loadMoves(f)\n",
        "\n",
        "  if i == 0:\n",
        "    createDatasets(DATASET_FILE_NAME, movesGrids, movesScalars, movesY)\n",
        "  else:\n",
        "    appendAllToDataset(DATASET_FILE_NAME, movesGrids, movesScalars, movesY)\n",
        "\n",
        "  print(\"FILE: {} {}\".format(i, f))\n",
        "  print(movesGrids.shape, movesScalars.shape, movesY.shape)\n",
        "  printHDF5File(DATASET_FILE_NAME)\n"
      ],
      "metadata": {
        "id": "pHYvNlnfKEsD"
      },
      "execution_count": null,
      "outputs": []
    }
  ],
  "metadata": {
    "kernelspec": {
      "display_name": "Python 3",
      "language": "python",
      "name": "python3"
    },
    "language_info": {
      "name": "python",
      "version": "3.9.0"
    },
    "orig_nbformat": 4,
    "colab": {
      "provenance": []
    }
  },
  "nbformat": 4,
  "nbformat_minor": 0
}