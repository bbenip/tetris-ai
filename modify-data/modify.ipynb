{
  "cells": [
    {
      "cell_type": "code",
      "source": [
        "from google.colab import drive\n",
        "drive.mount('/content/drive')\n",
        "\n",
        "!git clone https://github.com/bbenip/tetris-ai.git\n",
        "!cd tetris-ai/modify-data"
      ],
      "metadata": {
        "id": "g_loCgb5kezD",
        "outputId": "9aff7903-5bc7-4bd3-827e-b24c50c261ce",
        "colab": {
          "base_uri": "https://localhost:8080/"
        }
      },
      "execution_count": 5,
      "outputs": [
        {
          "output_type": "stream",
          "name": "stdout",
          "text": [
            "Mounted at /content/drive\n",
            "Cloning into 'tetris-ai'...\n",
            "remote: Enumerating objects: 60, done.\u001b[K\n",
            "remote: Counting objects: 100% (60/60), done.\u001b[K\n",
            "remote: Compressing objects: 100% (37/37), done.\u001b[K\n",
            "remote: Total 60 (delta 20), reused 56 (delta 16), pack-reused 0\u001b[K\n",
            "Receiving objects: 100% (60/60), 6.16 MiB | 17.04 MiB/s, done.\n",
            "Resolving deltas: 100% (20/20), done.\n"
          ]
        }
      ]
    },
    {
      "cell_type": "code",
      "source": [
        "import os\n",
        "import json"
      ],
      "metadata": {
        "id": "BW0Jwf05jF6Q"
      },
      "execution_count": 2,
      "outputs": []
    },
    {
      "cell_type": "code",
      "source": [
        "ABSOLUTE_PATH = os.path.dirname(os.path.abspath(''))\n",
        "MOVES_FOLDER_PATH = os.path.join(ABSOLUTE_PATH, 'games')\n",
        "MOVES_JSON_FILENAME = '0000.json'"
      ],
      "metadata": {
        "id": "VJNjjdObi-0X",
        "outputId": "4b9e2d11-e654-4b19-a07d-80c8af2ad671",
        "colab": {
          "base_uri": "https://localhost:8080/",
          "height": 210
        }
      },
      "execution_count": 4,
      "outputs": [
        {
          "output_type": "error",
          "ename": "NameError",
          "evalue": "ignored",
          "traceback": [
            "\u001b[0;31m---------------------------------------------------------------------------\u001b[0m",
            "\u001b[0;31mNameError\u001b[0m                                 Traceback (most recent call last)",
            "\u001b[0;32m<ipython-input-4-7ebbc11bb057>\u001b[0m in \u001b[0;36m<cell line: 1>\u001b[0;34m()\u001b[0m\n\u001b[0;32m----> 1\u001b[0;31m \u001b[0mABSOLUTE_PATH\u001b[0m \u001b[0;34m=\u001b[0m \u001b[0mos\u001b[0m\u001b[0;34m.\u001b[0m\u001b[0mpath\u001b[0m\u001b[0;34m.\u001b[0m\u001b[0mdirname\u001b[0m\u001b[0;34m(\u001b[0m\u001b[0mos\u001b[0m\u001b[0;34m.\u001b[0m\u001b[0mpath\u001b[0m\u001b[0;34m.\u001b[0m\u001b[0mabspath\u001b[0m\u001b[0;34m(\u001b[0m\u001b[0m__file__\u001b[0m\u001b[0;34m)\u001b[0m\u001b[0;34m)\u001b[0m\u001b[0;34m\u001b[0m\u001b[0;34m\u001b[0m\u001b[0m\n\u001b[0m\u001b[1;32m      2\u001b[0m \u001b[0mMOVES_FOLDER_PATH\u001b[0m \u001b[0;34m=\u001b[0m \u001b[0mos\u001b[0m\u001b[0;34m.\u001b[0m\u001b[0mpath\u001b[0m\u001b[0;34m.\u001b[0m\u001b[0mjoin\u001b[0m\u001b[0;34m(\u001b[0m\u001b[0mABSOLUTE_PATH\u001b[0m\u001b[0;34m,\u001b[0m \u001b[0;34m'games'\u001b[0m\u001b[0;34m)\u001b[0m\u001b[0;34m\u001b[0m\u001b[0;34m\u001b[0m\u001b[0m\n\u001b[1;32m      3\u001b[0m \u001b[0mMOVES_JSON_FILENAME\u001b[0m \u001b[0;34m=\u001b[0m \u001b[0;34m'0000.json'\u001b[0m\u001b[0;34m\u001b[0m\u001b[0;34m\u001b[0m\u001b[0m\n",
            "\u001b[0;31mNameError\u001b[0m: name '__file__' is not defined"
          ]
        }
      ]
    },
    {
      "cell_type": "code",
      "execution_count": null,
      "metadata": {
        "id": "Lgw12JV5ix8J"
      },
      "outputs": [],
      "source": [
        "# Load moves from JSON file\n",
        "def loadMoves(filepath):\n",
        "    out = []\n",
        "    with open(filepath, 'rb') as f:\n",
        "        data = json.load(f)\n",
        "        for move in data:\n",
        "            heldBlock = move[\"heldBlock\"] #I|O|T|L|J|S|Z|None|\n",
        "            activeBlock = move[\"activeBlock\"] #I|O|T|L|J|S|Z\n",
        "            blockPos = [activeBlock[\"pos\"][\"x\"], activeBlock[\"pos\"][\"y\"]]\n",
        "            blockRot = activeBlock[\"rot\"] #0|1|2|3\n",
        "            currGrid = move[\"oldBoard\"]\n",
        "            nextMove = move[\"move\"] #MOVE_LEFT | MOVE_RIGHT | ROT_CCW | ROT_CW | ROT_180 | SOFT_DROP | HARD_DROP\n",
        "            print(heldBlock, activeBlock, blockPos, blockRot, nextMove)\n",
        "    return out"
      ]
    },
    {
      "cell_type": "code",
      "source": [
        "try:\n",
        "    moves_file_path = os.path.join(MOVES_FOLDER_PATH, MOVES_JSON_FILENAME)\n",
        "    moves = loadMoves(moves_file_path)\n",
        "except:\n",
        "    print(\"Error loading moves file\")\n"
      ],
      "metadata": {
        "id": "uITRSVSXjL62"
      },
      "execution_count": null,
      "outputs": []
    }
  ],
  "metadata": {
    "kernelspec": {
      "display_name": "Python 3",
      "language": "python",
      "name": "python3"
    },
    "language_info": {
      "name": "python",
      "version": "3.9.0"
    },
    "orig_nbformat": 4,
    "colab": {
      "provenance": []
    }
  },
  "nbformat": 4,
  "nbformat_minor": 0
}