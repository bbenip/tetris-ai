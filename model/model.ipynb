{
  "cells": [
    {
      "cell_type": "code",
      "source": [
        "from google.colab import drive\n",
        "drive.mount('/content/drive')\n",
        "\n",
        "!git clone https://github.com/bbenip/tetris-ai.git"
      ],
      "metadata": {
        "id": "-tgtAFQyx5IT",
        "outputId": "6063cc82-beaa-4b59-84f3-067e876c63e3",
        "colab": {
          "base_uri": "https://localhost:8080/"
        }
      },
      "execution_count": 1,
      "outputs": [
        {
          "output_type": "stream",
          "name": "stdout",
          "text": [
            "Drive already mounted at /content/drive; to attempt to forcibly remount, call drive.mount(\"/content/drive\", force_remount=True).\n",
            "fatal: destination path 'tetris-ai' already exists and is not an empty directory.\n"
          ]
        }
      ]
    },
    {
      "cell_type": "code",
      "source": [],
      "metadata": {
        "id": "1zfuAK8WznH4"
      },
      "execution_count": null,
      "outputs": []
    },
    {
      "cell_type": "code",
      "source": [
        "%run /content/tetris-ai/data/modify.ipynb"
      ],
      "metadata": {
        "id": "SxzUMYT-yend",
        "outputId": "b241b78a-6e83-49de-d12c-85a3efb6bf78",
        "colab": {
          "base_uri": "https://localhost:8080/"
        }
      },
      "execution_count": null,
      "outputs": [
        {
          "output_type": "stream",
          "name": "stdout",
          "text": [
            "Drive already mounted at /content/drive; to attempt to forcibly remount, call drive.mount(\"/content/drive\", force_remount=True).\n",
            "fatal: destination path 'tetris-ai' already exists and is not an empty directory.\n",
            "Requirement already satisfied: unrar in /usr/local/lib/python3.10/dist-packages (0.4)\n",
            "\n",
            "Enter password (will not be echoed): \n",
            "\n",
            "Reenter password: \n",
            "\n",
            "\n",
            "UNRAR 6.11 beta 1 freeware      Copyright (c) 1993-2022 Alexander Roshal\n",
            "\n",
            "\n",
            "Extracting from /content/tetris-ai/data/games/games.rar\n",
            "\n",
            "\n",
            "Would you like to replace the existing file /content/tetris-ai/data/games/8571.json\n",
            "284713 bytes, modified on 2023-09-08 14:36\n",
            "with a new one\n",
            "284713 bytes, modified on 2023-09-08 14:36\n",
            "\n",
            "[Y]es, [N]o, [A]ll, n[E]ver, [R]ename, [Q]uit \n",
            "Program aborted\n",
            "Requirement already satisfied: h5py in /usr/local/lib/python3.10/dist-packages (3.9.0)\n",
            "Requirement already satisfied: numpy>=1.17.3 in /usr/local/lib/python3.10/dist-packages (from h5py) (1.23.5)\n",
            "/content/tetris-ai/data/games\n"
          ]
        },
        {
          "output_type": "stream",
          "name": "stderr",
          "text": [
            "Exception ignored in: <function _xla_gc_callback at 0x7b95926df1c0>\n",
            "Traceback (most recent call last):\n",
            "  File \"/usr/local/lib/python3.10/dist-packages/jax/_src/lib/__init__.py\", line 98, in _xla_gc_callback\n",
            "    def _xla_gc_callback(*args):\n",
            "KeyboardInterrupt: \n",
            "Exception ignored in: <function _xla_gc_callback at 0x7b95926df1c0>\n",
            "Traceback (most recent call last):\n",
            "  File \"/usr/local/lib/python3.10/dist-packages/jax/_src/lib/__init__.py\", line 98, in _xla_gc_callback\n",
            "    def _xla_gc_callback(*args):\n",
            "KeyboardInterrupt: \n",
            "Exception ignored in: <function _xla_gc_callback at 0x7b95926df1c0>\n",
            "Traceback (most recent call last):\n",
            "  File \"/usr/local/lib/python3.10/dist-packages/jax/_src/lib/__init__.py\", line 98, in _xla_gc_callback\n",
            "    def _xla_gc_callback(*args):\n",
            "KeyboardInterrupt: \n"
          ]
        }
      ]
    },
    {
      "cell_type": "code",
      "execution_count": 30,
      "metadata": {
        "id": "RHt4hEGjxn9l",
        "outputId": "6997c36c-8027-441f-a20d-15552552275c",
        "colab": {
          "base_uri": "https://localhost:8080/",
          "height": 53
        }
      },
      "outputs": [
        {
          "output_type": "execute_result",
          "data": {
            "text/plain": [
              "'\\ngrid 20x10x? vector\\nheldBlock 8 vector 1-hot\\nactiveBlock 7 vector 1-hot\\nblockPos 2 vector\\nblockRot 4 vector 1-hot\\nnextMove 10 vector 1-hot\\n'"
            ],
            "application/vnd.google.colaboratory.intrinsic+json": {
              "type": "string"
            }
          },
          "metadata": {},
          "execution_count": 30
        }
      ],
      "source": [
        "#import data/data.hdf5\n",
        "import h5py\n",
        "import numpy as np\n",
        "import os\n",
        "from sklearn.model_selection import train_test_split\n",
        "DATA_DIR = \"/content/tetris-ai/data\"\n",
        "DATASET_FILE_NAME = \"data.hdf5\"\n",
        "def load_dataset():\n",
        "    data_file = os.path.join(DATA_DIR, DATASET_FILE_NAME)\n",
        "    with h5py.File(data_file, 'r') as hf:\n",
        "      X_held_blocks = hf.get('X_held_block')[()]\n",
        "      X_active_blocks = hf.get('X_active_block')[()]\n",
        "      X_block_positions = hf.get('X_block_pos')[()]\n",
        "      X_block_rotations = hf.get('X_block_rot')[()]\n",
        "      X_grids = hf.get('X_grid')[()]\n",
        "      X_grids = np.reshape(X_grids, (-1, 20, 10))\n",
        "      Y = hf.get('Y')[()]\n",
        "\n",
        "      return [X_held_blocks, X_active_blocks, X_block_positions, X_block_rotations, X_grids, Y]\n",
        "\n",
        "dataset = load_dataset()\n",
        "\n",
        "'''\n",
        "grid 20x10x? vector\n",
        "heldBlock 8 vector 1-hot\n",
        "activeBlock 7 vector 1-hot\n",
        "blockPos 2 vector\n",
        "blockRot 4 vector 1-hot\n",
        "nextMove 10 vector 1-hot\n",
        "'''"
      ]
    },
    {
      "cell_type": "code",
      "source": [
        "print(dataset[0].shape)"
      ],
      "metadata": {
        "id": "PCV4mTgkPGzx",
        "outputId": "6246ac69-94c0-412d-c08d-6920acf0eab7",
        "colab": {
          "base_uri": "https://localhost:8080/"
        }
      },
      "execution_count": 19,
      "outputs": [
        {
          "output_type": "stream",
          "name": "stdout",
          "text": [
            "(53665,)\n"
          ]
        }
      ]
    },
    {
      "cell_type": "code",
      "source": [
        "def scalarToOneHot(n, size):\n",
        "  vector = np.zeros(size)\n",
        "  vector[n] = 1\n",
        "  return vector"
      ],
      "metadata": {
        "id": "648ob81klxPA"
      },
      "execution_count": 18,
      "outputs": []
    },
    {
      "cell_type": "code",
      "source": [
        "dataset[0] = np.array(list(map(lambda x: scalarToOneHot(x, 8), dataset[0])))\n",
        "dataset[1] = np.array(list(map(lambda x: scalarToOneHot(x, 8), dataset[1])))\n",
        "dataset[3] = np.array(list(map(lambda x: scalarToOneHot(x, 4), dataset[3])))\n",
        "dataset[5] = np.array(list(map(lambda x: scalarToOneHot(x, 10), dataset[5])))\n",
        "\n",
        "print(dataset[0].shape)\n"
      ],
      "metadata": {
        "id": "jlJCkMAplZ35",
        "outputId": "8b8a21b4-2372-46ac-ed1d-ace6b4650fde",
        "colab": {
          "base_uri": "https://localhost:8080/"
        }
      },
      "execution_count": 31,
      "outputs": [
        {
          "output_type": "stream",
          "name": "stdout",
          "text": [
            "(53665, 8)\n"
          ]
        }
      ]
    },
    {
      "cell_type": "code",
      "source": [
        "print(dataset[0])"
      ],
      "metadata": {
        "id": "3sujNHl4wdvo",
        "outputId": "521ba616-6623-4906-c77b-2aa915cbaa15",
        "colab": {
          "base_uri": "https://localhost:8080/"
        }
      },
      "execution_count": 28,
      "outputs": [
        {
          "output_type": "stream",
          "name": "stdout",
          "text": [
            "<map object at 0x7b9574911990>\n"
          ]
        }
      ]
    },
    {
      "cell_type": "code",
      "execution_count": 38,
      "metadata": {
        "id": "oq6rbC0oxn9o"
      },
      "outputs": [],
      "source": [
        "import tensorflow as tf\n",
        "from tensorflow.keras.layers import Input, Conv2D, Flatten, Dense, concatenate\n",
        "from tensorflow.keras.models import Model\n",
        "\n",
        "# Define input layers for each type of input\n",
        "cnn_input = Input((20,10,1))\n",
        "heldBlock_input = Input((8))\n",
        "activeBlock_input = Input((8))\n",
        "rotation_input = Input((4))\n",
        "position_input = Input((2))\n",
        "\n",
        "# CNN branch\n",
        "x = Conv2D(32, (3, 3), activation='relu')(cnn_input)\n",
        "x = Flatten()(x)\n",
        "\n",
        "# Branch for 8-vector input\n",
        "x2 = Dense(16, activation='relu')(heldBlock_input)\n",
        "\n",
        "# Branch for 7-vector input\n",
        "x3 = Dense(16, activation='relu')(activeBlock_input)\n",
        "\n",
        "# Branch for 4-vector input\n",
        "x4 = Dense(16, activation='relu')(rotation_input)\n",
        "\n",
        "# Branch for 2-vector input\n",
        "x5 = Dense(16, activation='relu')(position_input)\n",
        "\n",
        "# Concatenate all the branches\n",
        "combined = concatenate([x, x2, x3, x4, x5])\n",
        "\n",
        "# Add more layers if needed\n",
        "combined = Dense(64, activation='relu')(combined)\n",
        "output = Dense(10, activation='softmax')(combined)  # Replace 'output_dim' with the number of output classes or neurons\n",
        "\n",
        "# Create the model\n",
        "model = Model(inputs=[cnn_input, heldBlock_input, activeBlock_input, rotation_input, position_input], outputs=output)\n",
        "\n",
        "# Compile the model\n",
        "model.compile(optimizer='adam', loss='categorical_crossentropy', metrics=['accuracy'])"
      ]
    },
    {
      "cell_type": "code",
      "source": [
        "VALIDATION_SPLIT = 0.2\n",
        "EPOCHS = 4"
      ],
      "metadata": {
        "id": "L5Qs3w7Et50H"
      },
      "execution_count": 43,
      "outputs": []
    },
    {
      "cell_type": "code",
      "source": [
        "# Train the model\n",
        "history = model.fit(x=[dataset[4], dataset[0], dataset[1], dataset[3], dataset[2]], \\\n",
        "          y=dataset[5], \\\n",
        "          validation_split=VALIDATION_SPLIT, \\\n",
        "          epochs=EPOCHS)"
      ],
      "metadata": {
        "id": "0ckfvxAct3kC",
        "outputId": "b429addf-0482-4059-e460-d7b640ad0990",
        "colab": {
          "base_uri": "https://localhost:8080/"
        }
      },
      "execution_count": 44,
      "outputs": [
        {
          "output_type": "stream",
          "name": "stdout",
          "text": [
            "Epoch 1/4\n",
            "1342/1342 [==============================] - 19s 14ms/step - loss: 1.4841 - accuracy: 0.2993 - val_loss: 1.4698 - val_accuracy: 0.3032\n",
            "Epoch 2/4\n",
            "1342/1342 [==============================] - 17s 13ms/step - loss: 1.4688 - accuracy: 0.2984 - val_loss: 1.4527 - val_accuracy: 0.3063\n",
            "Epoch 3/4\n",
            "1342/1342 [==============================] - 17s 13ms/step - loss: 1.4557 - accuracy: 0.3007 - val_loss: 1.4604 - val_accuracy: 0.3077\n",
            "Epoch 4/4\n",
            "1342/1342 [==============================] - 19s 14ms/step - loss: 1.4482 - accuracy: 0.3043 - val_loss: 1.4507 - val_accuracy: 0.3035\n"
          ]
        }
      ]
    },
    {
      "cell_type": "code",
      "source": [
        "from matplotlib import pyplot as plt\n",
        "\n",
        "plt.plot(history.history['loss'])\n",
        "plt.plot(history.history['val_loss'])\n",
        "plt.title('model loss')\n",
        "plt.ylabel('loss')\n",
        "plt.xlabel('epoch')\n",
        "plt.legend(['train', 'val'], loc='upper left')\n",
        "plt.show()"
      ],
      "metadata": {
        "id": "fjPZJa9OyrnS",
        "outputId": "352f75eb-5c35-4f31-bd3e-350f5746dd22",
        "colab": {
          "base_uri": "https://localhost:8080/",
          "height": 472
        }
      },
      "execution_count": 45,
      "outputs": [
        {
          "output_type": "display_data",
          "data": {
            "text/plain": [
              "<Figure size 640x480 with 1 Axes>"
            ],
            "image/png": "[encoded data removed]"
          },
          "metadata": {}
        }
      ]
    }
  ],
  "metadata": {
    "colab": {
      "name": "Untitled",
      "provenance": []
    },
    "kernelspec": {
      "display_name": "Python 3",
      "name": "python3"
    },
    "language_info": {
      "name": "python",
      "version": "3.9.0"
    }
  },
  "nbformat": 4,
  "nbformat_minor": 0
}