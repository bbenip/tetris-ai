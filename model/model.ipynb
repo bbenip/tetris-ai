{
  "cells": [
    {
      "cell_type": "markdown",
      "metadata": {
        "id": "view-in-github",
        "colab_type": "text"
      },
      "source": [
        "<a href=\"https://colab.research.google.com/github/bbenip/tetris-ai/blob/main/model/model.ipynb\" target=\"_parent\"><img src=\"https://colab.research.google.com/assets/colab-badge.svg\" alt=\"Open In Colab\"/></a>"
      ]
    },
    {
      "cell_type": "code",
      "source": [
        "from google.colab import drive\n",
        "drive.mount('/content/drive')\n",
        "\n",
        "!git clone https://github.com/bbenip/tetris-ai.git"
      ],
      "metadata": {
        "id": "-tgtAFQyx5IT",
        "outputId": "c6c5ef4f-69a8-41fc-c680-6e773b78797f",
        "colab": {
          "base_uri": "https://localhost:8080/"
        }
      },
      "execution_count": 1,
      "outputs": [
        {
          "output_type": "stream",
          "name": "stdout",
          "text": [
            "Mounted at /content/drive\n",
            "Cloning into 'tetris-ai'...\n",
            "remote: Enumerating objects: 133, done.\u001b[K\n",
            "remote: Counting objects: 100% (40/40), done.\u001b[K\n",
            "remote: Compressing objects: 100% (31/31), done.\u001b[K\n",
            "remote: Total 133 (delta 15), reused 9 (delta 2), pack-reused 93\u001b[K\n",
            "Receiving objects: 100% (133/133), 36.42 MiB | 25.10 MiB/s, done.\n",
            "Resolving deltas: 100% (47/47), done.\n"
          ]
        }
      ]
    },
    {
      "cell_type": "markdown",
      "source": [
        "Run data pre-proccessing, extracting json data for games.rar and building data.hdf5"
      ],
      "metadata": {
        "id": "QTE9A__pJj1D"
      }
    },
    {
      "cell_type": "code",
      "source": [
        "!pip install tensorflow-io"
      ],
      "metadata": {
        "colab": {
          "base_uri": "https://localhost:8080/"
        },
        "id": "QgsSPQRpHvAo",
        "outputId": "09677a95-0ee0-4269-ae49-c0b152151cfd"
      },
      "execution_count": 2,
      "outputs": [
        {
          "output_type": "stream",
          "name": "stdout",
          "text": [
            "Collecting tensorflow-io\n",
            "  Downloading tensorflow_io-0.34.0-cp310-cp310-manylinux_2_12_x86_64.manylinux2010_x86_64.whl (28.8 MB)\n",
            "\u001b[2K     \u001b[90m━━━━━━━━━━━━━━━━━━━━━━━━━━━━━━━━━━━━━━━━\u001b[0m \u001b[32m28.8/28.8 MB\u001b[0m \u001b[31m21.0 MB/s\u001b[0m eta \u001b[36m0:00:00\u001b[0m\n",
            "\u001b[?25hCollecting tensorflow-io-gcs-filesystem==0.34.0 (from tensorflow-io)\n",
            "  Downloading tensorflow_io_gcs_filesystem-0.34.0-cp310-cp310-manylinux_2_12_x86_64.manylinux2010_x86_64.whl (2.4 MB)\n",
            "\u001b[2K     \u001b[90m━━━━━━━━━━━━━━━━━━━━━━━━━━━━━━━━━━━━━━━━\u001b[0m \u001b[32m2.4/2.4 MB\u001b[0m \u001b[31m81.5 MB/s\u001b[0m eta \u001b[36m0:00:00\u001b[0m\n",
            "\u001b[?25hInstalling collected packages: tensorflow-io-gcs-filesystem, tensorflow-io\n",
            "  Attempting uninstall: tensorflow-io-gcs-filesystem\n",
            "    Found existing installation: tensorflow-io-gcs-filesystem 0.33.0\n",
            "    Uninstalling tensorflow-io-gcs-filesystem-0.33.0:\n",
            "      Successfully uninstalled tensorflow-io-gcs-filesystem-0.33.0\n",
            "Successfully installed tensorflow-io-0.34.0 tensorflow-io-gcs-filesystem-0.34.0\n"
          ]
        }
      ]
    },
    {
      "cell_type": "code",
      "source": [
        "%run /content/tetris-ai/data/modify.ipynb"
      ],
      "metadata": {
        "id": "SxzUMYT-yend",
        "colab": {
          "base_uri": "https://localhost:8080/",
          "height": 452
        },
        "outputId": "1e536c31-0a0f-4d8d-bbbd-07b826a25ea4"
      },
      "execution_count": 3,
      "outputs": [
        {
          "output_type": "display_data",
          "data": {
            "text/plain": [
              "'Processing file: 8171/8172'"
            ],
            "application/vnd.google.colaboratory.intrinsic+json": {
              "type": "string"
            }
          },
          "metadata": {}
        },
        {
          "output_type": "stream",
          "name": "stdout",
          "text": [
            "<HDF5 dataset \"X_active_block\": shape (2558757,), type \"<i8\">\n",
            "<HDF5 dataset \"X_block_pos\": shape (2558757, 2), type \"<i8\">\n",
            "<HDF5 dataset \"X_block_rot\": shape (2558757,), type \"<i8\">\n",
            "<HDF5 dataset \"X_grid\": shape (2558757, 20, 10), type \"|i1\">\n",
            "<HDF5 dataset \"X_held_block\": shape (2558757,), type \"<i8\">\n",
            "<HDF5 dataset \"Y\": shape (2558757,), type \"<i8\">\n",
            "<HDF5 dataset \"X_active_block\": shape (288380,), type \"<i8\">\n",
            "<HDF5 dataset \"X_block_pos\": shape (288380, 2), type \"<i8\">\n",
            "<HDF5 dataset \"X_block_rot\": shape (288380,), type \"<i8\">\n",
            "<HDF5 dataset \"X_grid\": shape (288380, 20, 10), type \"|i1\">\n",
            "<HDF5 dataset \"X_held_block\": shape (288380,), type \"<i8\">\n",
            "<HDF5 dataset \"Y\": shape (288380,), type \"<i8\">\n",
            "<HDF5 dataset \"X_active_block\": shape (2558757,), type \"<i8\">\n",
            "<HDF5 dataset \"X_block_pos\": shape (2558757, 2), type \"<i8\">\n",
            "<HDF5 dataset \"X_block_rot\": shape (2558757,), type \"<i8\">\n",
            "<HDF5 dataset \"X_grid\": shape (2558757, 20, 10), type \"|i1\">\n",
            "<HDF5 dataset \"X_held_block\": shape (2558757,), type \"<i8\">\n",
            "<HDF5 dataset \"Y\": shape (2558757,), type \"<i8\">\n",
            "<HDF5 dataset \"X_active_block\": shape (288380,), type \"<i8\">\n",
            "<HDF5 dataset \"X_block_pos\": shape (288380, 2), type \"<i8\">\n",
            "<HDF5 dataset \"X_block_rot\": shape (288380,), type \"<i8\">\n",
            "<HDF5 dataset \"X_grid\": shape (288380, 20, 10), type \"|i1\">\n",
            "<HDF5 dataset \"X_held_block\": shape (288380,), type \"<i8\">\n",
            "<HDF5 dataset \"Y\": shape (288380,), type \"<i8\">\n"
          ]
        }
      ]
    },
    {
      "cell_type": "markdown",
      "source": [
        "Read in dataset"
      ],
      "metadata": {
        "id": "-ksboZoiKPyH"
      }
    },
    {
      "cell_type": "code",
      "source": [
        "import tensorflow as tf\n",
        "import tensorflow_io as tfio\n",
        "\n",
        "DATA_DIR = \"/content/tetris-ai/data\"\n",
        "TRAIN_DATASET_FILE_NAME = \"train_data.hdf5\"\n",
        "TEST_DATASET_FILE_NAME = \"test_data.hdf5\"\n",
        "\n",
        "train_data_file = os.path.join(DATA_DIR, TRAIN_DATASET_FILE_NAME)\n",
        "test_data_file = os.path.join(DATA_DIR, TEST_DATASET_FILE_NAME)\n",
        "dataset_names = ['/X_held_block', '/X_active_block', '/X_block_pos', '/X_block_rot','/X_grid','/Y']\n",
        "\n",
        "train_data = [tfio.IODataset.from_hdf5(train_data_file, setName) for setName in dataset_names]\n",
        "test_data = [tfio.IODataset.from_hdf5(test_data_file, setName)  for setName in dataset_names]"
      ],
      "metadata": {
        "id": "Q1JzFbN_Djj1"
      },
      "execution_count": 44,
      "outputs": []
    },
    {
      "cell_type": "code",
      "source": [
        "print(test_data)"
      ],
      "metadata": {
        "colab": {
          "base_uri": "https://localhost:8080/"
        },
        "id": "ukX7-ycsHWVM",
        "outputId": "e9a7e6aa-4e4a-4b9c-8f2c-65b3e4192470"
      },
      "execution_count": 45,
      "outputs": [
        {
          "output_type": "stream",
          "name": "stdout",
          "text": [
            "[<HDF5IODataset element_spec=TensorSpec(shape=(), dtype=tf.int64, name=None)>, <HDF5IODataset element_spec=TensorSpec(shape=(), dtype=tf.int64, name=None)>, <HDF5IODataset element_spec=TensorSpec(shape=(2,), dtype=tf.int64, name=None)>, <HDF5IODataset element_spec=TensorSpec(shape=(), dtype=tf.int64, name=None)>, <HDF5IODataset element_spec=TensorSpec(shape=(20, 10), dtype=tf.int8, name=None)>, <HDF5IODataset element_spec=TensorSpec(shape=(), dtype=tf.int64, name=None)>]\n"
          ]
        }
      ]
    },
    {
      "cell_type": "code",
      "execution_count": 46,
      "metadata": {
        "id": "RHt4hEGjxn9l"
      },
      "outputs": [],
      "source": [
        "#import data/data.hdf5\n",
        "import h5py\n",
        "import numpy as np\n",
        "import os\n",
        "from sklearn.model_selection import train_test_split\n",
        "\n",
        "train_held, train_active, train_pos, train_rot, train_grid, train_y = train_data\n",
        "test_held, test_active, test_pos, test_rot, test_grid, test_y = test_data"
      ]
    },
    {
      "cell_type": "code",
      "source": [
        "print(train_held)"
      ],
      "metadata": {
        "id": "PCV4mTgkPGzx",
        "outputId": "0889c166-e345-41c5-dd73-7596274bfa28",
        "colab": {
          "base_uri": "https://localhost:8080/"
        }
      },
      "execution_count": 47,
      "outputs": [
        {
          "output_type": "stream",
          "name": "stdout",
          "text": [
            "<HDF5IODataset element_spec=TensorSpec(shape=(), dtype=tf.int64, name=None)>\n"
          ]
        }
      ]
    },
    {
      "cell_type": "markdown",
      "source": [
        "Convert scalar datapoints (heldBlock, activeBlock, blockRotation, nextMove) into 1-hot vector representations\n",
        "\n",
        "e.g.\n",
        "\n",
        ">\n",
        "\n",
        ">Currently Held Block ⟶ **4**<br>\n",
        ">Number of Block Types ⟶ **8** (including 0 for None)<br>\n",
        ">1-hot vector ⟶ **[0, 0, 0, 0, 1, 0, 0, 0]**<br>\n",
        "\n"
      ],
      "metadata": {
        "id": "i3X7zs8qKyuw"
      }
    },
    {
      "cell_type": "code",
      "source": [
        "train_held = train_held.map(lambda x: tf.one_hot(x, 8), num_parallel_calls=tf.data.AUTOTUNE)\n",
        "train_active = train_active.map(lambda x: tf.one_hot(x, 8), num_parallel_calls=tf.data.AUTOTUNE)\n",
        "train_rot = train_rot.map(lambda x: tf.one_hot(x, 4), num_parallel_calls=tf.data.AUTOTUNE)\n",
        "train_y = train_y.map(lambda x: tf.one_hot(x, 10), num_parallel_calls=tf.data.AUTOTUNE)\n",
        "\n",
        "print(train_held)"
      ],
      "metadata": {
        "id": "jlJCkMAplZ35",
        "outputId": "04eb93e3-49fe-4740-a45a-7ddf7bcde386",
        "colab": {
          "base_uri": "https://localhost:8080/"
        }
      },
      "execution_count": 48,
      "outputs": [
        {
          "output_type": "stream",
          "name": "stdout",
          "text": [
            "<_ParallelMapDataset element_spec=TensorSpec(shape=(8,), dtype=tf.float32, name=None)>\n"
          ]
        }
      ]
    },
    {
      "cell_type": "code",
      "source": [
        "test_held = test_held.map(lambda x: tf.one_hot(x, 8), num_parallel_calls=tf.data.AUTOTUNE)\n",
        "test_active = test_active.map(lambda x: tf.one_hot(x, 8), num_parallel_calls=tf.data.AUTOTUNE)\n",
        "test_rot = test_rot.map(lambda x: tf.one_hot(x, 4), num_parallel_calls=tf.data.AUTOTUNE)\n",
        "test_y =test_y.map(lambda x: tf.one_hot(x, 10), num_parallel_calls=tf.data.AUTOTUNE)\n",
        "\n",
        "print(test_held)"
      ],
      "metadata": {
        "id": "bY1XahRFlhOp",
        "colab": {
          "base_uri": "https://localhost:8080/"
        },
        "outputId": "34218043-5bfa-430f-c382-231ee62d5e39"
      },
      "execution_count": 49,
      "outputs": [
        {
          "output_type": "stream",
          "name": "stdout",
          "text": [
            "<_ParallelMapDataset element_spec=TensorSpec(shape=(8,), dtype=tf.float32, name=None)>\n"
          ]
        }
      ]
    },
    {
      "cell_type": "code",
      "source": [],
      "metadata": {
        "id": "_2K429XksscF"
      },
      "execution_count": 49,
      "outputs": []
    },
    {
      "cell_type": "markdown",
      "source": [
        "Combine Datasets into one"
      ],
      "metadata": {
        "id": "McBzHB4dre5E"
      }
    },
    {
      "cell_type": "code",
      "source": [
        "trainDataset = tf.data.Dataset.zip((train_held, train_active, train_pos, train_rot, train_grid), train_y)\n",
        "testDataset = tf.data.Dataset.zip((test_held, test_active, test_pos, test_rot, test_grid), test_y)"
      ],
      "metadata": {
        "id": "p6OoYg6creUd"
      },
      "execution_count": 50,
      "outputs": []
    },
    {
      "cell_type": "code",
      "source": [
        "trainDataset = trainDataset.batch(100)\n",
        "trainDataset = trainDataset.prefetch(tf.data.AUTOTUNE)\n",
        "testDataset = testDataset.batch(128)"
      ],
      "metadata": {
        "id": "zTIfx7OntGf8"
      },
      "execution_count": 51,
      "outputs": []
    },
    {
      "cell_type": "markdown",
      "source": [
        "Train Model"
      ],
      "metadata": {
        "id": "FaP43HL6Mdn6"
      }
    },
    {
      "cell_type": "code",
      "source": [
        "# @title Training Constants { run: \"auto\" }\n",
        "# @markdown Number of iterations over whole dataset\n",
        "EPOCHS = 2 # @param {type:\"integer\"}"
      ],
      "metadata": {
        "id": "L5Qs3w7Et50H"
      },
      "execution_count": 73,
      "outputs": []
    },
    {
      "cell_type": "code",
      "execution_count": 80,
      "metadata": {
        "id": "oq6rbC0oxn9o"
      },
      "outputs": [],
      "source": [
        "import tensorflow as tf\n",
        "from tensorflow.keras.layers import Input, Conv2D, AveragePooling2D, Flatten, Dense, concatenate\n",
        "from tensorflow.keras.models import Model\n",
        "\n",
        "# Define input layers for each type of input\n",
        "cnn_input = Input((20,10,1))\n",
        "heldBlock_input = Input((8))\n",
        "activeBlock_input = Input((8))\n",
        "rotation_input = Input((4))\n",
        "position_input = Input((2))"
      ]
    },
    {
      "cell_type": "code",
      "source": [
        "# CNN branch\n",
        "x = Conv2D(32, (3, 3), activation='relu')(cnn_input)\n",
        "x = Flatten()(x)\n",
        "\n",
        "# Branch for 8-vector input\n",
        "x2 = Dense(16, activation='relu')(heldBlock_input)\n",
        "\n",
        "# Branch for 7-vector input\n",
        "x3 = Dense(16, activation='relu')(activeBlock_input)\n",
        "\n",
        "# Branch for 4-vector input\n",
        "x4 = Dense(16, activation='relu')(rotation_input)\n",
        "\n",
        "# Branch for 2-vector input\n",
        "x5 = Dense(16, activation='relu')(position_input)"
      ],
      "metadata": {
        "id": "ykBq2qaHM2jF"
      },
      "execution_count": null,
      "outputs": []
    },
    {
      "cell_type": "code",
      "source": [
        "# Concatenate all the branches\n",
        "combined = concatenate([x, heldBlock_input, activeBlock_input, x4, x5])"
      ],
      "metadata": {
        "id": "p97JlyM1M2U5"
      },
      "execution_count": 82,
      "outputs": []
    },
    {
      "cell_type": "code",
      "source": [
        "# Add more layers if needed\n",
        "combined = Dense(64, activation='relu')(combined)\n",
        "combined = Dense(64, activation='relu')(combined)\n",
        "output = Dense(10, activation='softmax')(combined)  # Replace 'output_dim' with the number of output classes or neurons"
      ],
      "metadata": {
        "id": "sz4m6O3DNCHp"
      },
      "execution_count": 83,
      "outputs": []
    },
    {
      "cell_type": "code",
      "source": [
        "# Create the model\n",
        "#    return (hf, [X_held_blocks, X_active_blocks, X_block_positions, X_block_rotations, X_grids, Y])\n",
        "model = Model(inputs=[heldBlock_input, activeBlock_input, position_input, rotation_input, cnn_input], outputs=output)\n",
        "\n",
        "# Compile the model\n",
        "model.compile(optimizer='adam', loss='categorical_crossentropy', metrics=['accuracy'])"
      ],
      "metadata": {
        "id": "4PgftOFNNCb5"
      },
      "execution_count": 84,
      "outputs": []
    },
    {
      "cell_type": "code",
      "source": [
        "# Train the model\n",
        "history = model.fit(trainDataset.shard(num_shards=4, index=0), \\\n",
        "                    validation_data=testDataset, \\\n",
        "                    epochs=EPOCHS)"
      ],
      "metadata": {
        "id": "0ckfvxAct3kC",
        "outputId": "ed880c98-c344-4855-96d9-268113ebcc81",
        "colab": {
          "base_uri": "https://localhost:8080/"
        }
      },
      "execution_count": null,
      "outputs": [
        {
          "output_type": "stream",
          "name": "stderr",
          "text": [
            "Exception ignored in: <function _xla_gc_callback at 0x7825d4c03010>\n",
            "Traceback (most recent call last):\n",
            "  File \"/usr/local/lib/python3.10/dist-packages/jax/_src/lib/__init__.py\", line 98, in _xla_gc_callback\n",
            "    def _xla_gc_callback(*args):\n",
            "KeyboardInterrupt: \n"
          ]
        },
        {
          "output_type": "stream",
          "name": "stdout",
          "text": [
            "    976/Unknown - 164s 40ms/step - loss: 1.5823 - accuracy: 0.2952"
          ]
        }
      ]
    },
    {
      "cell_type": "code",
      "source": [
        "hf1.close()\n",
        "hf2.close()"
      ],
      "metadata": {
        "id": "Do7QMtJN8ebI"
      },
      "execution_count": null,
      "outputs": []
    },
    {
      "cell_type": "code",
      "source": [
        "from matplotlib import pyplot as plt\n",
        "\n",
        "plt.plot(history.history['loss'])\n",
        "plt.plot(history.history['val_loss'])\n",
        "plt.title('model loss')\n",
        "plt.ylabel('loss')\n",
        "plt.xlabel('step')\n",
        "plt.legend(['train', 'val'], loc='upper left')\n",
        "plt.show()"
      ],
      "metadata": {
        "id": "fjPZJa9OyrnS"
      },
      "execution_count": null,
      "outputs": []
    }
  ],
  "metadata": {
    "colab": {
      "name": "Untitled",
      "provenance": [],
      "gpuType": "T4",
      "include_colab_link": true
    },
    "kernelspec": {
      "display_name": "Python 3",
      "name": "python3"
    },
    "language_info": {
      "name": "python",
      "version": "3.9.0"
    },
    "accelerator": "GPU"
  },
  "nbformat": 4,
  "nbformat_minor": 0
}