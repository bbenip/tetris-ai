{
  "nbformat": 4,
  "nbformat_minor": 0,
  "metadata": {
    "colab": {
      "provenance": [],
      "gpuType": "T4",
      "include_colab_link": true
    },
    "kernelspec": {
      "name": "python3",
      "display_name": "Python 3"
    },
    "language_info": {
      "name": "python"
    },
    "accelerator": "GPU"
  },
  "cells": [
    {
      "cell_type": "markdown",
      "metadata": {
        "id": "view-in-github",
        "colab_type": "text"
      },
      "source": [
        "<a href=\"https://colab.research.google.com/github/bbenip/tetris-ai/blob/main/model/rl/rl_model.ipynb\" target=\"_parent\"><img src=\"https://colab.research.google.com/assets/colab-badge.svg\" alt=\"Open In Colab\"/></a>"
      ]
    },
    {
      "cell_type": "code",
      "source": [
        "from google.colab import drive\n",
        "drive.mount('/content/drive')"
      ],
      "metadata": {
        "colab": {
          "base_uri": "https://localhost:8080/"
        },
        "id": "S0x51aWmuNJN",
        "outputId": "93ac3640-e1a9-4539-d7e9-b3db267f415e"
      },
      "execution_count": 126,
      "outputs": [
        {
          "output_type": "stream",
          "name": "stdout",
          "text": [
            "Drive already mounted at /content/drive; to attempt to forcibly remount, call drive.mount(\"/content/drive\", force_remount=True).\n"
          ]
        }
      ]
    },
    {
      "cell_type": "code",
      "source": [
        "!git clone https://github.com/bbenip/tetris-ai.git tetris-ai\n",
        "%ls"
      ],
      "metadata": {
        "colab": {
          "base_uri": "https://localhost:8080/"
        },
        "id": "yI6aPENMuR89",
        "outputId": "e7b3653a-40c5-415a-d2d3-472116363088"
      },
      "execution_count": 127,
      "outputs": [
        {
          "output_type": "stream",
          "name": "stdout",
          "text": [
            "Cloning into 'tetris-ai'...\n",
            "remote: Enumerating objects: 187, done.\u001b[K\n",
            "remote: Counting objects: 100% (94/94), done.\u001b[K\n",
            "remote: Compressing objects: 100% (75/75), done.\u001b[K\n",
            "remote: Total 187 (delta 36), reused 39 (delta 10), pack-reused 93\u001b[K\n",
            "Receiving objects: 100% (187/187), 36.44 MiB | 14.62 MiB/s, done.\n",
            "Resolving deltas: 100% (68/68), done.\n",
            "\u001b[0m\u001b[01;34mmodel\u001b[0m/  rl_model.ipynb  \u001b[01;34mtetris-ai\u001b[0m/  tetris.py\n"
          ]
        }
      ]
    },
    {
      "cell_type": "code",
      "source": [
        "%cd tetris-ai/model/rl"
      ],
      "metadata": {
        "colab": {
          "base_uri": "https://localhost:8080/"
        },
        "id": "lxSFnb41UiPX",
        "outputId": "9756a352-2868-49c1-d917-4fef93975639"
      },
      "execution_count": 128,
      "outputs": [
        {
          "output_type": "stream",
          "name": "stdout",
          "text": [
            "/content/tetris-ai/model/rl/tetris-ai/model/rl/tetris-ai/model/rl/tetris-ai/model/rl\n"
          ]
        }
      ]
    },
    {
      "cell_type": "code",
      "source": [
        "!git pull"
      ],
      "metadata": {
        "colab": {
          "base_uri": "https://localhost:8080/"
        },
        "id": "ShQ3oTxSGgv9",
        "outputId": "cc09daeb-35d2-4aaa-fe61-511cb3c69564"
      },
      "execution_count": 129,
      "outputs": [
        {
          "output_type": "stream",
          "name": "stdout",
          "text": [
            "Already up to date.\n"
          ]
        }
      ]
    },
    {
      "cell_type": "code",
      "source": [
        "import tensorflow as tf\n",
        "from tensorflow.keras.layers import Input, Conv2D, MaxPooling2D, Flatten, Dense, concatenate, InputLayer"
      ],
      "metadata": {
        "id": "HsTnyAb0KgQU"
      },
      "execution_count": 130,
      "outputs": []
    },
    {
      "cell_type": "code",
      "source": [
        "def create_model():\n",
        "  # Define the input for the CNN branch\n",
        "  board_input = Input(shape=(21, 10, 1), name='board_input')\n",
        "  current_piece_input = Input(shape=(4, 4, 1), name='current_piece_input')\n",
        "  next_piece_input = Input(shape=(4, 4, 1), name='next_piece_input')\n",
        "  position_input = Input(shape=(2), name=\"position_input\")\n",
        "\n",
        "  # Create the CNN branch\n",
        "  board_branch = Conv2D(32, (5, 5), activation='relu')(board_input)\n",
        "  board_branch = MaxPooling2D((2, 2), padding='same')(board_branch)\n",
        "  board_branch = Conv2D(32, (3, 3), activation='relu')(board_branch)\n",
        "  board_branch = MaxPooling2D((2, 2), padding='same')(board_branch)\n",
        "  board_branch = Flatten()(board_branch)\n",
        "\n",
        "  current_branch = Conv2D(32, (3, 3), activation='relu')(current_piece_input)\n",
        "  current_branch = Flatten()(current_branch)\n",
        "\n",
        "  next_branch = Conv2D(32, (3, 3), activation='relu')(next_piece_input)\n",
        "  next_branch = Flatten()(next_branch)\n",
        "\n",
        "  # Concatenate the 3 branches + position\n",
        "  concatenated_inputs = concatenate([board_branch,\n",
        "                                     current_branch,\n",
        "                                     next_branch,\n",
        "                                     position_input],\n",
        "                                    name='concatenated_inputs')\n",
        "\n",
        "  # Create the dense branch for the concatenated inputs\n",
        "  dense_branch = Dense(64, activation='relu')(concatenated_inputs)\n",
        "  dense_branch = Dense(32, activation='relu')(dense_branch)\n",
        "  dense_branch = Dense(32, activation='relu')(dense_branch)\n",
        "  dense_branch = Dense(32, activation='relu')(dense_branch)\n",
        "\n",
        "  # Create the output layer\n",
        "  output = Dense(6, activation='softmax', name='output')(dense_branch)\n",
        "\n",
        "  # Define the model with 4 inputs and one output\n",
        "  model = tf.keras.Model(inputs=[board_input,\n",
        "                                 current_piece_input,\n",
        "                                 next_piece_input,\n",
        "                                 position_input],\n",
        "                         outputs=output)\n",
        "\n",
        "  return model"
      ],
      "metadata": {
        "id": "fW9yNaju1nXJ"
      },
      "execution_count": 131,
      "outputs": []
    },
    {
      "cell_type": "code",
      "source": [
        "# Create the neural network model.\n",
        "model = create_model()\n",
        "model.summary()"
      ],
      "metadata": {
        "id": "QK4s1OztKJm4",
        "colab": {
          "base_uri": "https://localhost:8080/"
        },
        "outputId": "71ede1c1-c2cf-4468-ed9e-a53b85b93134"
      },
      "execution_count": 132,
      "outputs": [
        {
          "output_type": "stream",
          "name": "stdout",
          "text": [
            "Model: \"model_49\"\n",
            "__________________________________________________________________________________________________\n",
            " Layer (type)                Output Shape                 Param #   Connected to                  \n",
            "==================================================================================================\n",
            " board_input (InputLayer)    [(None, 21, 10, 1)]          0         []                            \n",
            "                                                                                                  \n",
            " conv2d_196 (Conv2D)         (None, 17, 6, 32)            832       ['board_input[0][0]']         \n",
            "                                                                                                  \n",
            " max_pooling2d_98 (MaxPooli  (None, 9, 3, 32)             0         ['conv2d_196[0][0]']          \n",
            " ng2D)                                                                                            \n",
            "                                                                                                  \n",
            " conv2d_197 (Conv2D)         (None, 7, 1, 32)             9248      ['max_pooling2d_98[0][0]']    \n",
            "                                                                                                  \n",
            " current_piece_input (Input  [(None, 4, 4, 1)]            0         []                            \n",
            " Layer)                                                                                           \n",
            "                                                                                                  \n",
            " next_piece_input (InputLay  [(None, 4, 4, 1)]            0         []                            \n",
            " er)                                                                                              \n",
            "                                                                                                  \n",
            " max_pooling2d_99 (MaxPooli  (None, 4, 1, 32)             0         ['conv2d_197[0][0]']          \n",
            " ng2D)                                                                                            \n",
            "                                                                                                  \n",
            " conv2d_198 (Conv2D)         (None, 2, 2, 32)             320       ['current_piece_input[0][0]'] \n",
            "                                                                                                  \n",
            " conv2d_199 (Conv2D)         (None, 2, 2, 32)             320       ['next_piece_input[0][0]']    \n",
            "                                                                                                  \n",
            " flatten_147 (Flatten)       (None, 128)                  0         ['max_pooling2d_99[0][0]']    \n",
            "                                                                                                  \n",
            " flatten_148 (Flatten)       (None, 128)                  0         ['conv2d_198[0][0]']          \n",
            "                                                                                                  \n",
            " flatten_149 (Flatten)       (None, 128)                  0         ['conv2d_199[0][0]']          \n",
            "                                                                                                  \n",
            " position_input (InputLayer  [(None, 2)]                  0         []                            \n",
            " )                                                                                                \n",
            "                                                                                                  \n",
            " concatenated_inputs (Conca  (None, 386)                  0         ['flatten_147[0][0]',         \n",
            " tenate)                                                             'flatten_148[0][0]',         \n",
            "                                                                     'flatten_149[0][0]',         \n",
            "                                                                     'position_input[0][0]']      \n",
            "                                                                                                  \n",
            " dense_196 (Dense)           (None, 64)                   24768     ['concatenated_inputs[0][0]'] \n",
            "                                                                                                  \n",
            " dense_197 (Dense)           (None, 32)                   2080      ['dense_196[0][0]']           \n",
            "                                                                                                  \n",
            " dense_198 (Dense)           (None, 32)                   1056      ['dense_197[0][0]']           \n",
            "                                                                                                  \n",
            " dense_199 (Dense)           (None, 32)                   1056      ['dense_198[0][0]']           \n",
            "                                                                                                  \n",
            " output (Dense)              (None, 6)                    198       ['dense_199[0][0]']           \n",
            "                                                                                                  \n",
            "==================================================================================================\n",
            "Total params: 39878 (155.77 KB)\n",
            "Trainable params: 39878 (155.77 KB)\n",
            "Non-trainable params: 0 (0.00 Byte)\n",
            "__________________________________________________________________________________________________\n"
          ]
        }
      ]
    },
    {
      "cell_type": "code",
      "source": [
        "# @title Training Constants\n",
        "NUM_EPISODES = 4096 # @param {type:\"integer\"}\n",
        "MAX_MOVES = 2048 # @param {type:\"integer\"}\n",
        "BATCH_SIZE = 256 # @param {type:\"integer\"}\n",
        "DISCOUNT_FACTOR = 0.9 # @param {type:\"slider\", min:0, max:1, step:0.01}\n",
        "EXPLORATION_START = 1 # @param {type:\"slider\", min:0, max:1, step:0.1}\n",
        "EXPLORATION_END = 0.1 # @param {type:\"slider\", min:0, max:1, step:0.1}\n",
        "E_DECAY_STEPS = 100000 # @param {type:\"integer\"}\n",
        "LEARNING_RATE = 0.001 # @param {type:\"number\"}\n",
        "\n",
        "EPISODES_PER_UPDATE = 50 # @param {type:\"integer\"}\n",
        "\n",
        "INVALID_MOVE_REWARD = -999 # @param {type:\"integer\"}\n",
        "GAME_OVER_REWARD = -999 # @param {type:\"integer\"}\n",
        "VALID_MOVE_REWARD = 1 # @param {type:\"integer\"}\n"
      ],
      "metadata": {
        "id": "TKAQEhkBwb5v"
      },
      "execution_count": 133,
      "outputs": []
    },
    {
      "cell_type": "code",
      "source": [
        "# Define the optimizer and loss function based on your RL task.\n",
        "optimizer = tf.keras.optimizers.Adam(learning_rate=LEARNING_RATE)  # Adjust the learning rate as needed.\n",
        "loss_fn = tf.keras.losses.MeanSquaredError()  # Adjust the loss function as needed.\n",
        "\n",
        "# Compile the model.\n",
        "model.compile(optimizer=optimizer, loss=loss_fn)"
      ],
      "metadata": {
        "id": "Y3Tgl3HHKJ7v"
      },
      "execution_count": 134,
      "outputs": []
    },
    {
      "cell_type": "code",
      "source": [
        "from random import sample\n",
        "class ReplayMemory:\n",
        "    def __init__(self, max_size):\n",
        "        self.buffer = [None] * max_size\n",
        "        self.max_size = max_size\n",
        "        self.index = 0\n",
        "        self.size = 0\n",
        "\n",
        "    def append(self, obj):\n",
        "        self.buffer[self.index] = obj\n",
        "        self.size = min(self.size + 1, self.max_size)\n",
        "        self.index = (self.index + 1) % self.max_size\n",
        "\n",
        "    def sample(self, batch_size):\n",
        "        indices = sample(range(self.size), batch_size)\n",
        "        return [self.buffer[index] for index in indices]"
      ],
      "metadata": {
        "id": "num5EkHMNZ3u"
      },
      "execution_count": 135,
      "outputs": []
    },
    {
      "cell_type": "code",
      "source": [
        "import numpy as np\n",
        "from collections import deque\n",
        "import matplotlib.pyplot as plt\n",
        "from IPython.display import clear_output\n",
        "\n",
        "def dqn(env,\n",
        "        num_episodes,\n",
        "        batch_size=BATCH_SIZE,\n",
        "        gamma=DISCOUNT_FACTOR,\n",
        "        ε_start=EXPLORATION_START,\n",
        "        ε_end=EXPLORATION_END,\n",
        "        ε_decay_steps=E_DECAY_STEPS,\n",
        "        learning_rate=LEARNING_RATE):\n",
        "    replay_buffer = ReplayMemory(max_size=10000)\n",
        "    model = create_model()  # Define the DQN neural network.\n",
        "    target_model = create_model()  # Target network for stability.\n",
        "\n",
        "    # Choose a decay schedule\n",
        "    current_step = 0\n",
        "    scores = np.zeros(NUM_EPISODES)\n",
        "    move_counts = np.zeros(NUM_EPISODES)\n",
        "    avg_past_ten = np.zeros(NUM_EPISODES // EPISODES_PER_UPDATE + 1)\n",
        "\n",
        "    for episode in range(NUM_EPISODES):\n",
        "        score = 0\n",
        "        moves = 0\n",
        "        count = 0\n",
        "\n",
        "        env.start_game()\n",
        "        state = env.getState()\n",
        "        done = False\n",
        "        while not done and moves < MAX_MOVES:\n",
        "            if current_step < ε_decay_steps:\n",
        "              # Update epsilon using linear decay\n",
        "              epsilon = max(ε_end, ε_start - (ε_start - ε_end) * (current_step / ε_decay_steps))\n",
        "\n",
        "            # Epsilon-greedy action selection\n",
        "            if np.random.rand() < epsilon:\n",
        "                action = np.random.randint(6)  # Explore\n",
        "                #print(f\"Random Action: {action}\")\n",
        "            else:\n",
        "                model_input = state\n",
        "                model_input[0] = tf.reshape(model_input[0], (1, 21, 10, 1))\n",
        "                model_input[1] = tf.reshape(model_input[1], (1, 4, 4, 1))\n",
        "                model_input[2] = tf.reshape(model_input[2], (1, 4, 4, 1))\n",
        "                action = np.argmax(model(model_input))\n",
        "                #print(f\"Action: {action}\")\n",
        "\n",
        "            next_state, reward, done = env.doAction(action)\n",
        "            score += reward if reward > 0 else 0\n",
        "            replay_buffer.append((state, action, reward, next_state, done))\n",
        "            state = next_state\n",
        "\n",
        "            count += 1\n",
        "            moves += 1\n",
        "            current_step += 1\n",
        "\n",
        "            # Sample and train on mini-batch from replay buffer\n",
        "            if replay_buffer.size >= batch_size and count > batch_size:\n",
        "                count = 0\n",
        "                mini_batch = replay_buffer.sample(batch_size)\n",
        "                train_dqn(model, target_model, mini_batch, gamma, learning_rate)\n",
        "\n",
        "        scores[episode] = score\n",
        "        move_counts[episode] = moves\n",
        "        avg_past_ten[episode // EPISODES_PER_UPDATE] = np.average(scores[episode-10:episode])\n",
        "        if episode and episode % EPISODES_PER_UPDATE == 0:\n",
        "            clear_output(wait=True)\n",
        "            print(f\"Episode: {episode} \\nAverage Score (Past 10 games): {avg_past_ten[episode // EPISODES_PER_UPDATE]}\")\n",
        "            fig, ax1 = plt.subplots()\n",
        "\n",
        "            color = 'tab:red'\n",
        "            ax1.set_xlabel('Episode')\n",
        "            ax1.set_ylabel('Score', color=color)\n",
        "            ax1.scatter(range(episode), scores[:episode], color=color)\n",
        "            ax1.plot(range(0, episode, EPISODES_PER_UPDATE), avg_past_ten[:episode // EPISODES_PER_UPDATE], color=color, label='past_ten_avg')\n",
        "            ax1.tick_params(axis='y', labelcolor=color)\n",
        "\n",
        "            fig.tight_layout()  # otherwise the right y-label is slightly clipped\n",
        "            plt.show()\n",
        "\n",
        "        if episode % (EPISODES_PER_UPDATE * 2) == 0:\n",
        "            model.save(\"./model\")\n"
      ],
      "metadata": {
        "id": "fGJLD5DL543d"
      },
      "execution_count": 136,
      "outputs": []
    },
    {
      "cell_type": "code",
      "source": [
        "import numpy as np\n",
        "import tensorflow as tf\n",
        "\n",
        "def train_dqn(model, target_model, mini_batch, gamma, learning_rate):\n",
        "    # Step 1: Compute the target Q-values using the target model\n",
        "    states, actions, rewards, next_states, dones = zip(*mini_batch)\n",
        "\n",
        "    target_q_values = []\n",
        "    states_iter = zip(next_states, rewards, dones)\n",
        "    for next_state, reward, done in states_iter:\n",
        "        if done:\n",
        "            target_q_values.append(rewards)  # If it's a terminal state, the Q-value is the immediate reward.\n",
        "        else:\n",
        "            # Use the target model to predict Q-values for the next state and select the maximum Q-value.\n",
        "            next_state[0] = tf.reshape(next_state[0], (1, 21, 10, 1))\n",
        "            next_state[1] = tf.reshape(next_state[1], (1, 4, 4, 1))\n",
        "            next_state[2] = tf.reshape(next_state[2], (1, 4, 4, 1))\n",
        "            max_q_value = np.max(model(next_state)[0])\n",
        "            target_q = rewards + gamma * max_q_value\n",
        "            target_q_values.append(target_q)\n",
        "\n",
        "    target_q_values = np.array(target_q_values)\n",
        "\n",
        "    # Step 2: Compute the predicted Q-values for the current states using the model\n",
        "    model_inputs = list(map(np.vstack, np.fromiter(zip(*states), dtype=object)))\n",
        "    # print(\"Curr pieces \", model_inputs[1].shape)\n",
        "    # print(\"Boards \", model_inputs[0].shape)\n",
        "    # print(\"Targets \", target_q_values.shape)\n",
        "\n",
        "    # Step 3: Calculate the target Q-values for the mini-batch\n",
        "    target_q_values = np.expand_dims(target_q_values, axis=1)  # Add an extra dimension for broadcasting\n",
        "\n",
        "    masks = tf.one_hot(actions, 6)\n",
        "\n",
        "    # Step 5: Update the model's weights using gradient descent to minimize the loss\n",
        "    optimizer = tf.keras.optimizers.Adam(learning_rate=learning_rate)\n",
        "    with tf.GradientTape() as tape:\n",
        "        predicted_q_values = model(model_inputs)\n",
        "        predicted_q_values = tf.reduce_sum(tf.multiply(predicted_q_values, masks), axis=1)\n",
        "        loss = tf.keras.losses.mean_squared_error(target_q_values, predicted_q_values)\n",
        "        #print(loss)\n",
        "        gradients = tape.gradient(loss, model.trainable_variables)\n",
        "    optimizer.apply_gradients(zip(gradients, model.trainable_variables))\n",
        "\n",
        "    return loss.numpy().mean()\n"
      ],
      "metadata": {
        "id": "3-EI4jNw_k7I"
      },
      "execution_count": 137,
      "outputs": []
    },
    {
      "cell_type": "code",
      "source": [
        "from tetris import TetrisApp\n",
        "\n",
        "REWARDS = (INVALID_MOVE_REWARD, GAME_OVER_REWARD, VALID_MOVE_REWARD)\n",
        "env = TetrisApp(ai=True, rewards=REWARDS)\n",
        "dqn(env,\n",
        "    num_episodes=NUM_EPISODES,\n",
        "    batch_size=BATCH_SIZE,\n",
        "    gamma=DISCOUNT_FACTOR,\n",
        "    learning_rate=LEARNING_RATE)"
      ],
      "metadata": {
        "colab": {
          "base_uri": "https://localhost:8080/",
          "height": 559
        },
        "id": "yUXUGuzI4V3S",
        "outputId": "860239e7-de90-4cdf-fccb-db02e755219f"
      },
      "execution_count": 138,
      "outputs": [
        {
          "output_type": "stream",
          "name": "stderr",
          "text": [
            "WARNING:matplotlib.legend:No artists with labels found to put in legend.  Note that artists whose label start with an underscore are ignored when legend() is called with no argument.\n"
          ]
        },
        {
          "output_type": "stream",
          "name": "stdout",
          "text": [
            "Episode: 4050 \n",
            "Average Score (Past 10 games): 232.6\n"
          ]
        },
        {
          "output_type": "display_data",
          "data": {
            "text/plain": [
              "<Figure size 640x480 with 2 Axes>"
            ],
            "image/png": "[encoded data removed]"
          },
          "metadata": {}
        }
      ]
    }
  ]
}