{
  "nbformat": 4,
  "nbformat_minor": 0,
  "metadata": {
    "colab": {
      "provenance": [],
      "gpuType": "T4",
      "history_visible": true,
      "include_colab_link": true
    },
    "kernelspec": {
      "name": "python3",
      "display_name": "Python 3"
    },
    "language_info": {
      "name": "python"
    },
    "accelerator": "GPU"
  },
  "cells": [
    {
      "cell_type": "markdown",
      "metadata": {
        "id": "view-in-github",
        "colab_type": "text"
      },
      "source": [
        "<a href=\"https://colab.research.google.com/github/bbenip/tetris-ai/blob/main/model/rl/rl_model.ipynb\" target=\"_parent\"><img src=\"https://colab.research.google.com/assets/colab-badge.svg\" alt=\"Open In Colab\"/></a>"
      ]
    },
    {
      "cell_type": "code",
      "source": [
        "# @title Default title text\n",
        "MOUNT_DRIVE = True # @param {type:\"boolean\"}\n",
        "CLONE_REPO = False # @param {type:\"boolean\"}\n",
        "CONNECT_TPU = False # @param {type:\"boolean\"}\n"
      ],
      "metadata": {
        "id": "wFS3c7hZar0y"
      },
      "execution_count": 1,
      "outputs": []
    },
    {
      "cell_type": "code",
      "source": [
        "if MOUNT_DRIVE:\n",
        "  from google.colab import drive\n",
        "  drive.mount('/content/drive')\n",
        "\n",
        "  %cd drive/MyDrive"
      ],
      "metadata": {
        "id": "Hr08TYwna9Li",
        "colab": {
          "base_uri": "https://localhost:8080/"
        },
        "outputId": "20a7acd1-4b95-435c-a923-3725286cd6ef"
      },
      "execution_count": 2,
      "outputs": [
        {
          "output_type": "stream",
          "name": "stdout",
          "text": [
            "Drive already mounted at /content/drive; to attempt to forcibly remount, call drive.mount(\"/content/drive\", force_remount=True).\n",
            "/content/drive/MyDrive\n"
          ]
        }
      ]
    },
    {
      "cell_type": "code",
      "source": [
        "if CLONE_REPO:\n",
        "  !git clone https://github.com/bbenip/tetris-ai.git tetris-ai"
      ],
      "metadata": {
        "id": "TIvNEB8ob07F"
      },
      "execution_count": 3,
      "outputs": []
    },
    {
      "cell_type": "code",
      "source": [
        "  %cd tetris-ai/model/rl"
      ],
      "metadata": {
        "colab": {
          "base_uri": "https://localhost:8080/"
        },
        "id": "ePArGlZYvQSL",
        "outputId": "8bb919a6-b332-4ed3-e456-b73b613ba9f0"
      },
      "execution_count": 4,
      "outputs": [
        {
          "output_type": "stream",
          "name": "stdout",
          "text": [
            "/content/drive/MyDrive/tetris-ai/model/rl\n"
          ]
        }
      ]
    },
    {
      "cell_type": "code",
      "source": [
        "!git pull"
      ],
      "metadata": {
        "id": "28ZIpibPbTKq",
        "colab": {
          "base_uri": "https://localhost:8080/"
        },
        "outputId": "f2e9a9f4-5415-4f50-de73-60bf7d402cf9"
      },
      "execution_count": 5,
      "outputs": [
        {
          "output_type": "stream",
          "name": "stdout",
          "text": [
            "Already up to date.\n"
          ]
        }
      ]
    },
    {
      "cell_type": "code",
      "source": [
        "import tensorflow as tf"
      ],
      "metadata": {
        "id": "L5O61oz5xoVB"
      },
      "execution_count": 6,
      "outputs": []
    },
    {
      "cell_type": "code",
      "source": [
        "if CONNECT_TPU:\n",
        "  resolver = tf.distribute.cluster_resolver.TPUClusterResolver(tpu='')\n",
        "  tf.config.experimental_connect_to_cluster(resolver)\n",
        "  # This is the TPU initialization code that has to be at the beginning.\n",
        "  tf.tpu.experimental.initialize_tpu_system(resolver)\n",
        "  print(\"All devices: \", tf.config.list_logical_devices('TPU'))"
      ],
      "metadata": {
        "id": "qnSZJsvKxjMr"
      },
      "execution_count": 7,
      "outputs": []
    },
    {
      "cell_type": "code",
      "source": [
        "import os\n",
        "#Cloud TPUs can only save to GCP Buckets but we can use the tmp directory to get around that\n",
        "if CONNECT_TPU:\n",
        "  CHECKPOINT_DIR = \"/tmp/training_checkpoints\"\n",
        "  CHECKPOINT_PREFIX = \"tpu-ckpt\"\n",
        "  CHECKPOINT_OPTS = tf.train.CheckpointOptions(experimental_io_device=\"/job:localhost\")\n",
        "else:\n",
        "  CHECKPOINT_DIR = \"./training_checkpoints\"\n",
        "  CHECKPOINT_PREFIX = \"ckpt\"\n",
        "  CHECKPOINT_OPTS = None\n",
        "\n",
        "CHECKPOINT_PATH = os.path.join(CHECKPOINT_DIR, CHECKPOINT_PREFIX)"
      ],
      "metadata": {
        "id": "8dn46d7C8i_v"
      },
      "execution_count": 8,
      "outputs": []
    },
    {
      "cell_type": "code",
      "source": [
        "from tensorflow.keras.layers import Input, Conv2D, MaxPooling2D, Flatten, Dense, concatenate, InputLayer"
      ],
      "metadata": {
        "id": "ELVzmmKfxsZZ"
      },
      "execution_count": 9,
      "outputs": []
    },
    {
      "cell_type": "code",
      "source": [
        "def create_model():\n",
        "  # Define the input for the CNN branch\n",
        "  board_input = Input(shape=(21, 10, 1), name='board_input')\n",
        "  current_piece_input = Input(shape=(4, 4, 1), name='current_piece_input')\n",
        "  next_piece_input = Input(shape=(4, 4, 1), name='next_piece_input')\n",
        "  position_input = Input(shape=(2), name=\"position_input\")\n",
        "  line_height_input = Input(shape=(1), name=\"line_height_input\")\n",
        "\n",
        "  # Create the CNN branch\n",
        "  board_branch = Conv2D(256, (3, 3), activation='relu')(board_input)\n",
        "  board_branch = MaxPooling2D((2, 2), padding='same')(board_branch)\n",
        "  board_branch = Conv2D(32, (3, 3), activation='relu')(board_branch)\n",
        "  board_branch = MaxPooling2D((2, 2), padding='same')(board_branch)\n",
        "  board_branch = Flatten()(board_branch)\n",
        "\n",
        "  current_branch = Flatten()(current_piece_input)\n",
        "\n",
        "  next_branch = Flatten()(next_piece_input)\n",
        "\n",
        "  # Concatenate the 3 branches + position\n",
        "  concatenated_inputs = concatenate([board_branch,\n",
        "                                     current_branch,\n",
        "                                     next_branch,\n",
        "                                     position_input,\n",
        "                                     line_height_input],\n",
        "                                    name='concatenated_inputs')\n",
        "\n",
        "  # Create the dense branch for the concatenated inputs\n",
        "  dense_branch = Dense(64, activation='relu')(concatenated_inputs)\n",
        "  dense_branch = Dense(32, activation='relu')(dense_branch)\n",
        "\n",
        "  # Create the output layer\n",
        "  output = Dense(6, activation='linear', name='output')(dense_branch)\n",
        "\n",
        "  # Define the model with 4 inputs and one output\n",
        "  model = tf.keras.Model(inputs=[board_input,\n",
        "                                 current_piece_input,\n",
        "                                 next_piece_input,\n",
        "                                 position_input,\n",
        "                                 line_height_input],\n",
        "                         outputs=output)\n",
        "\n",
        "  # Define the optimizer and loss function based on your RL task.\n",
        "  optimizer = tf.keras.optimizers.Adam(learning_rate=LEARNING_RATE)  # Adjust the learning rate as needed.\n",
        "  loss_fn = tf.keras.losses.MeanSquaredError()  # Adjust the loss function as needed.\n",
        "\n",
        "  # Compile the model.\n",
        "  model.compile(optimizer=optimizer, loss=loss_fn)\n",
        "\n",
        "  return model"
      ],
      "metadata": {
        "id": "fW9yNaju1nXJ"
      },
      "execution_count": 10,
      "outputs": []
    },
    {
      "cell_type": "code",
      "source": [
        "from random import sample\n",
        "class ReplayMemory:\n",
        "    def __init__(self, max_size):\n",
        "        self.buffer = [None] * max_size\n",
        "        self.max_size = max_size\n",
        "        self.index = 0\n",
        "        self.size = 0\n",
        "\n",
        "    def append(self, obj):\n",
        "        self.buffer[self.index] = obj\n",
        "        self.size = min(self.size + 1, self.max_size)\n",
        "        self.index = (self.index + 1) % self.max_size\n",
        "\n",
        "    def sample(self, batch_size):\n",
        "        indices = sample(range(self.size), batch_size)\n",
        "        return [self.buffer[index] for index in indices]"
      ],
      "metadata": {
        "id": "num5EkHMNZ3u"
      },
      "execution_count": 11,
      "outputs": []
    },
    {
      "cell_type": "code",
      "source": [
        "import numpy as np\n",
        "from collections import deque\n",
        "import matplotlib.pyplot as plt\n",
        "from IPython.display import clear_output\n",
        "\n",
        "def getInputFromState(state):\n",
        "    model_input = state[:]\n",
        "    model_input[0] = tf.reshape(model_input[0], (1, 21, 10, 1))\n",
        "    model_input[1] = tf.expand_dims(tf.expand_dims(model_input[1], -1), 0)\n",
        "    model_input[2] = tf.expand_dims(tf.expand_dims(model_input[2], -1), 0)\n",
        "    return model_input\n",
        "\n",
        "def dqn(env,\n",
        "        num_episodes,\n",
        "        batch_size,\n",
        "        gamma,\n",
        "        ε_start,\n",
        "        ε_end,\n",
        "        ε_decay_steps,\n",
        "        learning_rate):\n",
        "    replay_buffer = ReplayMemory(max_size=10000)\n",
        "\n",
        "    episode = tf.Variable(0)\n",
        "    model = create_model()  # Define the DQN neural network.\n",
        "    target_model = create_model()  # Target network for stability.\n",
        "    checkpoint = tf.train.Checkpoint(episode=episode, model=model, target_model=target_model)\n",
        "    status = checkpoint.restore(tf.train.latest_checkpoint(CHECKPOINT_DIR), options=CHECKPOINT_OPTS)\n",
        "\n",
        "    current_step = 0\n",
        "    scores = np.zeros(NUM_EPISODES)\n",
        "    move_counts = np.zeros(NUM_EPISODES)\n",
        "    avg_score = np.zeros(NUM_EPISODES)\n",
        "    avg_moves = np.zeros(NUM_EPISODES)\n",
        "\n",
        "    while episode < NUM_EPISODES:\n",
        "        score = 0\n",
        "        moves = 0\n",
        "        count = 0\n",
        "\n",
        "        env.start_game()\n",
        "        state = getInputFromState(env.getState())\n",
        "        done = False\n",
        "        while not done and moves < MAX_MOVES:\n",
        "          if current_step < ε_decay_steps:\n",
        "            # Update epsilon using linear decay\n",
        "            epsilon = max(ε_end, ε_start - (ε_start - ε_end) * (current_step / ε_decay_steps))\n",
        "\n",
        "          # Epsilon-greedy action selection\n",
        "          if np.random.rand() < epsilon:\n",
        "              action = np.random.randint(6)  # Explore\n",
        "              #print(f\"Random Action: {action}\")\n",
        "          else:\n",
        "              action = np.argmax(model(state))\n",
        "              #print(f\"Action: {action}\")\n",
        "\n",
        "          next_state, reward, done = env.doAction(action)\n",
        "          next_state = getInputFromState(next_state)\n",
        "          score += reward if reward > 0 else 0\n",
        "          replay_buffer.append((state, action, reward, next_state, done))\n",
        "          state = next_state\n",
        "\n",
        "          count += 1\n",
        "          moves += 1\n",
        "          # Sample and train on mini-batch from replay buffer\n",
        "          if replay_buffer.size >= batch_size and count > batch_size:\n",
        "              count = 0\n",
        "              mini_batch = replay_buffer.sample(batch_size)\n",
        "              train_dqn(model, target_model, mini_batch, gamma, learning_rate)\n",
        "\n",
        "        scalar_episode = int(episode)\n",
        "\n",
        "        scores[scalar_episode] = score\n",
        "        move_counts[scalar_episode] = moves\n",
        "\n",
        "        start_idx = max(0, scalar_episode - 16)\n",
        "        avg_score[scalar_episode] = np.average(scores[start_idx:scalar_episode])\n",
        "        avg_moves[scalar_episode] = np.average(move_counts[start_idx: scalar_episode])\n",
        "\n",
        "        if episode > 0 and episode % EPISODES_PER_CHECKPOINT == 0:\n",
        "            checkpoint.save(file_prefix=CHECKPOINT_PATH)\n",
        "\n",
        "        if episode > 0 and episode % EPISODES_PER_UPDATE == 0:\n",
        "            clear_output(wait=True)\n",
        "            print(f\"Episode: {episode}\")\n",
        "            print(f\"Average Score (Past 16 games): {avg_score[scalar_episode]}\")\n",
        "            print(f\"Average Moves (Past 16 games): {avg_moves[scalar_episode]}\")\n",
        "\n",
        "            fig, ax1 = plt.subplots()\n",
        "\n",
        "            color = 'tab:red'\n",
        "            ax1.set_xlabel('Episode')\n",
        "            ax1.set_ylabel('Score', color=color)\n",
        "            ax1.scatter(range(scalar_episode), scores[:scalar_episode], color=color)\n",
        "            ax1.plot(range(scalar_episode), avg_score[:scalar_episode], color=\"black\", linewidth=2, label='moving_avg')\n",
        "            ax1.tick_params(axis='y', labelcolor=color)\n",
        "\n",
        "            fig.tight_layout()\n",
        "            plt.show()\n",
        "\n",
        "        episode.assign_add(1)\n",
        "        current_step +=1\n"
      ],
      "metadata": {
        "id": "fGJLD5DL543d"
      },
      "execution_count": 15,
      "outputs": []
    },
    {
      "cell_type": "code",
      "source": [
        "import numpy as np\n",
        "import tensorflow as tf\n",
        "\n",
        "def train_dqn(model, target_model, mini_batch, gamma, learning_rate):\n",
        "    # Step 1: Compute the target Q-values using the target model\n",
        "    states, actions, rewards, next_states, dones = zip(*mini_batch)\n",
        "\n",
        "    states_iter = zip(next_states, rewards, dones)\n",
        "    target_q_values = []\n",
        "    for next_state, reward, done in states_iter:\n",
        "        if done:\n",
        "            target_q_values.append(reward)  # If it's a terminal state, the Q-value is the immediate reward.\n",
        "        else:\n",
        "            # Use the target model to predict Q-values for the next state and select the maximum Q-value.\n",
        "            max_q_value = np.max(model(next_state)[0])\n",
        "            target_q = reward + gamma * max_q_value\n",
        "            target_q_values.append(target_q)\n",
        "\n",
        "    target_q_values = np.array(target_q_values)\n",
        "\n",
        "    # Step 2: Compute the predicted Q-values for the current states using the model\n",
        "    model_inputs = []\n",
        "    for ins in zip(*states):\n",
        "      model_inputs.append(tf.concat(ins, 0))\n",
        "    # print(\"Curr pieces \", model_inputs[1].shape)\n",
        "    # print(\"Boards \", model_inputs[0].shape)\n",
        "    # print(\"Targets \", target_q_values.shape)\n",
        "\n",
        "    # Step 3: Calculate the target Q-values for the mini-batch\n",
        "    target_q_values = np.expand_dims(target_q_values, axis=1)  # Add an extra dimension for broadcasting\n",
        "\n",
        "    # Step 5: Update the model's weights using gradient descent to minimize the loss\n",
        "    optimizer = tf.keras.optimizers.Adam(learning_rate=learning_rate)\n",
        "    with tf.GradientTape() as tape:\n",
        "      #predicted_q_values = tf.reduce_sum(tf.multiply(predicted_q_values, masks), axis=1)\n",
        "      #tape.watch(model_inputs)\n",
        "      predicted_q_values = model(model_inputs, training=True)\n",
        "      predicted_q_values = tf.map_fn(tf.reduce_max, predicted_q_values)\n",
        "      loss = tf.keras.losses.mean_squared_error(target_q_values, predicted_q_values)\n",
        "      gradients = tape.gradient(loss, model.trainable_variables)\n",
        "    optimizer.apply_gradients(zip(gradients, model.trainable_variables))\n",
        "\n",
        "    return loss.numpy().mean()\n"
      ],
      "metadata": {
        "id": "3-EI4jNw_k7I"
      },
      "execution_count": 16,
      "outputs": []
    },
    {
      "cell_type": "code",
      "source": [
        "# @title Training Constants\n",
        "NUM_EPISODES = 1024 # @param {type:\"integer\"}\n",
        "MAX_MOVES = 1024 # @param {type:\"integer\"}\n",
        "BATCH_SIZE = 32 # @param {type:\"integer\"}\n",
        "DISCOUNT_FACTOR = 1 # @param {type:\"slider\", min:0, max:1, step:0.01}\n",
        "EXPLORATION_START = 0.8 # @param {type:\"slider\", min:0, max:1, step:0.1}\n",
        "EXPLORATION_END = 0.3 # @param {type:\"slider\", min:0, max:1, step:0.1}\n",
        "E_DECAY_STEPS = 512 # @param {type:\"integer\"}\n",
        "LEARNING_RATE = 0.003 # @param {type:\"number\"}\n",
        "\n",
        "EPISODES_PER_UPDATE = 32 # @param {type:\"integer\"}\n",
        "EPISODES_PER_CHECKPOINT = 32 # @param {type:\"integer\"}\n",
        "\n",
        "INVALID_MOVE_REWARD = -999 # @param {type:\"integer\"}\n",
        "GAME_OVER_REWARD = -99 # @param {type:\"integer\"}\n",
        "VALID_MOVE_REWARD = 1 # @param {type:\"integer\"}\n",
        "STACK_HEIGHT_PENALTY = 4 # @param {type:\"integer\"}"
      ],
      "metadata": {
        "id": "TKAQEhkBwb5v"
      },
      "execution_count": 17,
      "outputs": []
    },
    {
      "cell_type": "code",
      "source": [
        "from tetris import TetrisApp\n",
        "\n",
        "REWARDS = (INVALID_MOVE_REWARD, GAME_OVER_REWARD, VALID_MOVE_REWARD, STACK_HEIGHT_PENALTY)\n",
        "env = TetrisApp(ai=True, rewards=REWARDS)\n",
        "dqn(env,\n",
        "    num_episodes=NUM_EPISODES,\n",
        "    batch_size=BATCH_SIZE,\n",
        "    ε_start=EXPLORATION_START,\n",
        "    ε_end=EXPLORATION_END,\n",
        "    ε_decay_steps=E_DECAY_STEPS,\n",
        "    gamma=DISCOUNT_FACTOR,\n",
        "    learning_rate=LEARNING_RATE)"
      ],
      "metadata": {
        "colab": {
          "base_uri": "https://localhost:8080/",
          "height": 539
        },
        "id": "yUXUGuzI4V3S",
        "outputId": "e7c85f82-f8ea-49ed-abda-39b1933c7836"
      },
      "execution_count": null,
      "outputs": [
        {
          "output_type": "stream",
          "name": "stdout",
          "text": [
            "Episode: <tf.Variable 'Variable:0' shape=() dtype=int32, numpy=32>\n",
            "Average Score (Past 16 games): 98.3125\n",
            "Average Moves (Past 16 games): 51.0625\n"
          ]
        },
        {
          "output_type": "display_data",
          "data": {
            "text/plain": [
              "<Figure size 640x480 with 1 Axes>"
            ],
            "image/png": "[encoded data removed]"
          },
          "metadata": {}
        }
      ]
    }
  ]
}