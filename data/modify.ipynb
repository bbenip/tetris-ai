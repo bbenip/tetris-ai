{
  "cells": [
    {
      "cell_type": "markdown",
      "metadata": {
        "id": "KB0Y1-JbxPkE"
      },
      "source": [
        "Pre-processing the data to get it into a Numpy array"
      ]
    },
    {
      "cell_type": "markdown",
      "metadata": {
        "id": "ElS4xM0c4m2x"
      },
      "source": [
        "Mount Google Drive"
      ]
    },
    {
      "cell_type": "code",
      "execution_count": 1,
      "metadata": {
        "colab": {
          "base_uri": "https://localhost:8080/"
        },
        "id": "g_loCgb5kezD",
        "outputId": "2b2d06bd-7d8d-430b-ea77-fce0e3906162"
      },
      "outputs": [
        {
          "name": "stdout",
          "output_type": "stream",
          "text": [
            "Mounted at /content/drive\n",
            "Cloning into 'tetris-ai'...\n",
            "remote: Enumerating objects: 81, done.\u001b[K\n",
            "remote: Counting objects: 100% (81/81), done.\u001b[K\n",
            "remote: Compressing objects: 100% (55/55), done.\u001b[K\n",
            "remote: Total 81 (delta 28), reused 63 (delta 19), pack-reused 0\u001b[K\n",
            "Receiving objects: 100% (81/81), 36.35 MiB | 32.65 MiB/s, done.\n",
            "Resolving deltas: 100% (28/28), done.\n"
          ]
        }
      ],
      "source": [
        "from google.colab import drive\n",
        "drive.mount('/content/drive')\n",
        "\n",
        "!git clone https://github.com/bbenip/tetris-ai.git\n",
        "!cd tetris-ai/modify-data"
      ]
    },
    {
      "cell_type": "markdown",
      "metadata": {
        "id": "SzV1BpEv4qb4"
      },
      "source": [
        "Install dependencies"
      ]
    },
    {
      "cell_type": "code",
      "execution_count": null,
      "metadata": {
        "id": "d56AA5nuXLI2"
      },
      "outputs": [],
      "source": [
        "# @title Decompress game files\n",
        "games_password = '' # @param {type:\"string\"}\n",
        "\n",
        "!pip install unrar\n",
        "!unrar x -p{games_password} /content/tetris-ai/modify-data/games/games.rar /content/tetris-ai/modify-data/games"
      ]
    },
    {
      "cell_type": "code",
      "execution_count": null,
      "metadata": {
        "id": "YarI7Jsv4sqm"
      },
      "outputs": [],
      "source": [
        "!pip install h5py"
      ]
    },
    {
      "cell_type": "code",
      "execution_count": 6,
      "metadata": {
        "id": "BW0Jwf05jF6Q"
      },
      "outputs": [],
      "source": [
        "import os\n",
        "import json\n",
        "import numpy as np"
      ]
    },
    {
      "cell_type": "code",
      "execution_count": 7,
      "metadata": {
        "colab": {
          "base_uri": "https://localhost:8080/"
        },
        "id": "VJNjjdObi-0X",
        "outputId": "1645560d-b155-4a00-a375-f20bdb06ab1b"
      },
      "outputs": [
        {
          "name": "stdout",
          "output_type": "stream",
          "text": [
            "/content/tetris-ai/modify-data/games\n"
          ]
        }
      ],
      "source": [
        "MOVES_FOLDER_PATH = os.path.dirname('/content/tetris-ai/modify-data/games/')\n",
        "print(MOVES_FOLDER_PATH)"
      ]
    },
    {
      "cell_type": "code",
      "execution_count": 8,
      "metadata": {
        "id": "IA-3ndslpM3p"
      },
      "outputs": [],
      "source": [
        "MOVES_TABLE = {\n",
        "    \"MOVE_LEFT\": 0,\n",
        "    \"MOVE_RIGHT\": 1,\n",
        "    \"ROTATE_LEFT\": 2,\n",
        "    \"ROTATE_RIGHT\": 3,\n",
        "    \"ROTATE_180\": 4,\n",
        "    \"SOFT_DROP\": 5,\n",
        "    \"HARD_DROP\": 6,\n",
        "    \"DAS_LEFT\": 7,\n",
        "    \"DAS_RIGHT\": 8,\n",
        "    \"HOLD_BLOCK\": 9\n",
        "}"
      ]
    },
    {
      "cell_type": "code",
      "execution_count": 9,
      "metadata": {
        "id": "Lgw12JV5ix8J"
      },
      "outputs": [],
      "source": [
        "# Load moves from JSON file\n",
        "def loadMoves(filepath):\n",
        "    heldBlocks = np.empty((0, 1), dtype=int)\n",
        "    activeBlocks = np.empty((0, 1), dtype=int)\n",
        "    blockPositions = np.empty((0, 2), dtype=int)\n",
        "    blockRotations = np.empty((0, 1), dtype=int)\n",
        "    movesGrids = np.empty((0, 20, 10), dtype=int)\n",
        "    movesY = np.empty((0, 1), dtype=int)\n",
        "    with open(filepath, 'rb') as f:\n",
        "        data = json.load(f)\n",
        "        for move in data:\n",
        "            heldBlock = move[\"heldBlock\"][\"id\"] + 1 if move[\"heldBlock\"] else 0 #Shift id values up by 1 to allow null\n",
        "            activeBlock = move[\"activeBlock\"][\"id\"] + 1 #Just so the block ids match up\n",
        "            blockPos = [move[\"activeBlock\"][\"pos\"][\"x\"], move[\"activeBlock\"][\"pos\"][\"y\"]]\n",
        "            blockRot = move[\"activeBlock\"][\"rot\"]\n",
        "            currGrid = np.array(move[\"oldBoard\"], dtype=int) #(20,10)\n",
        "            nextMove = MOVES_TABLE[move[\"move\"]]\n",
        "\n",
        "            # Append to the NumPy array\n",
        "            heldBlocks = np.append(heldBlocks, heldBlock)\n",
        "            activeBlocks = np.append(activeBlocks, activeBlock)\n",
        "            blockPositions = np.vstack((blockPositions, blockPos))\n",
        "            blockRotations = np.append(blockRotations, blockRot)\n",
        "            movesGrids = np.vstack((movesGrids, currGrid))\n",
        "            movesY = np.append(movesY, nextMove)\n",
        "    return (heldBlocks, activeBlocks, blockPositions, blockRotations, movesGrids, movesY)"
      ]
    },
    {
      "cell_type": "code",
      "execution_count": 10,
      "metadata": {
        "id": "q8vy2P84Cby9"
      },
      "outputs": [],
      "source": [
        "import h5py\n",
        "\n",
        "DATASET_FILE_NAME = \"data.hdf5\""
      ]
    },
    {
      "cell_type": "code",
      "execution_count": 11,
      "metadata": {
        "id": "ob8vyZen2zeP"
      },
      "outputs": [],
      "source": [
        "def createDatasets(filepath, heldBlocks, activeBlocks, blockPositions, blockRotations, movesGrids, movesY):\n",
        "  with h5py.File(filepath, \"w\") as f:\n",
        "      dsetHeldBlocks = f.create_dataset(\"X_held_block\", data=heldBlock, maxshape=(None, 1))\n",
        "      dsetActiveBlock = f.create_dataset(\"X_active_block\", data=activeBlock, maxshape=(None, 1))\n",
        "      dsetBlockPositions = f.create_dataset(\"X_block_pos\", data=blockPositions, maxshape=(None, 2))\n",
        "      dsetBlockRotations = f.create_dataset(\"X_block_rot\", data=blockRotations, maxshape=(None, 1))\n",
        "      dsetGrids = f.create_dataset(\"X_grid\", data=movesGrids, maxshape=(None, 20, 10))\n",
        "\n",
        "      dsetY = f.create_dataset(\"Y\", data=movesY, maxshape=(None,))"
      ]
    },
    {
      "cell_type": "code",
      "execution_count": 12,
      "metadata": {
        "id": "OK3bLUcMIPw8"
      },
      "outputs": [],
      "source": [
        "def appendToDataset(filepath, datasetName, arr):\n",
        "  with h5py.File(filepath, \"a\") as hf:\n",
        "    hf[datasetName].resize((hf[datasetName].shape[0] + arr.shape[0]), axis = 0)\n",
        "    hf[datasetName][-arr.shape[0]:] = arr\n",
        "\n",
        "def appendAllToDataset(filepath, heldBlocks, activeBlocks, blockPositions, blockRotations, movesGrids, movesY):\n",
        "  appendToDataset(filepath, 'X_held_block', heldBlocks)\n",
        "  appendToDataset(filepath, 'X_active_block', activeBlocks)\n",
        "  appendToDataset(filepath, 'X_block_pos', blockPositions)\n",
        "  appendToDataset(filepath, 'X_block_rot', blockRotations)\n",
        "  appendToDataset(filepath, 'X_grid', movesGrids)\n",
        "  \n",
        "  appendToDataset(filepath, 'Y', movesY)"
      ]
    },
    {
      "cell_type": "code",
      "execution_count": 13,
      "metadata": {
        "id": "D9tKqLN-CY0U"
      },
      "outputs": [],
      "source": [
        "def printHDF5File(filepath):\n",
        "  with h5py.File(filepath, 'r') as f1:\n",
        "      for dset in f1.keys():\n",
        "        print(f1[dset])"
      ]
    },
    {
      "cell_type": "code",
      "execution_count": null,
      "metadata": {
        "id": "pHYvNlnfKEsD"
      },
      "outputs": [],
      "source": [
        "files = [os.path.join(MOVES_FOLDER_PATH, f) for f in os.listdir(MOVES_FOLDER_PATH) if f.endswith('.json')]\n",
        "for i,f in enumerate(files):\n",
        "  move_vars = loadMoves(f)\n",
        "\n",
        "  if i == 0:\n",
        "    createDatasets(DATASET_FILE_NAME, *move_vars)\n",
        "  else:\n",
        "    appendAllToDataset(DATASET_FILE_NAME, *move_vars)\n",
        "\n"
      ]
    }
  ],
  "metadata": {
    "colab": {
      "provenance": []
    },
    "kernelspec": {
      "display_name": "Python 3",
      "language": "python",
      "name": "python3"
    },
    "language_info": {
      "name": "python",
      "version": "3.9.0"
    },
    "orig_nbformat": 4
  },
  "nbformat": 4,
  "nbformat_minor": 0
}
